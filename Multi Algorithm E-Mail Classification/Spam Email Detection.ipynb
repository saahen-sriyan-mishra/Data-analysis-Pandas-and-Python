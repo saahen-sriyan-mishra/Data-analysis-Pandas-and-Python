{
 "cells": [
  {
   "cell_type": "code",
   "execution_count": 1,
   "id": "cc1c8862",
   "metadata": {},
   "outputs": [],
   "source": [
    "import warnings \n",
    "warnings.simplefilter('ignore')\n",
    "from sklearn.feature_extraction.text import CountVectorizer\n",
    "\n",
    "import numpy as np\n",
    "import pandas as pd\n",
    "import matplotlib.pyplot as plt\n",
    "\n",
    "from sklearn.model_selection import train_test_split\n",
    "from sklearn.feature_extraction.text import TfidfVectorizer\n",
    "\n",
    "from sklearn.metrics import accuracy_score\n",
    "from sklearn.metrics import precision_score\n",
    "from sklearn.metrics import recall_score\n",
    "from sklearn.metrics import f1_score"
   ]
  },
  {
   "cell_type": "code",
   "execution_count": 2,
   "id": "91d47f14",
   "metadata": {},
   "outputs": [],
   "source": [
    "from sklearn.linear_model import LogisticRegression\n",
    "from sklearn.tree import DecisionTreeClassifier\n",
    "from sklearn.neighbors import KNeighborsClassifier\n",
    "from sklearn.ensemble import RandomForestClassifier"
   ]
  },
  {
   "cell_type": "markdown",
   "id": "331d4cbe",
   "metadata": {},
   "source": [
    "## Data cleaning"
   ]
  },
  {
   "cell_type": "code",
   "execution_count": 3,
   "id": "cc348497",
   "metadata": {},
   "outputs": [
    {
     "data": {
      "text/html": [
       "<div>\n",
       "<style scoped>\n",
       "    .dataframe tbody tr th:only-of-type {\n",
       "        vertical-align: middle;\n",
       "    }\n",
       "\n",
       "    .dataframe tbody tr th {\n",
       "        vertical-align: top;\n",
       "    }\n",
       "\n",
       "    .dataframe thead th {\n",
       "        text-align: right;\n",
       "    }\n",
       "</style>\n",
       "<table border=\"1\" class=\"dataframe\">\n",
       "  <thead>\n",
       "    <tr style=\"text-align: right;\">\n",
       "      <th></th>\n",
       "      <th>Category</th>\n",
       "      <th>Message</th>\n",
       "      <th>Unnamed: 2</th>\n",
       "      <th>Unnamed: 3</th>\n",
       "      <th>Unnamed: 4</th>\n",
       "    </tr>\n",
       "  </thead>\n",
       "  <tbody>\n",
       "    <tr>\n",
       "      <th>0</th>\n",
       "      <td>ham</td>\n",
       "      <td>Go until jurong point, crazy.. Available only ...</td>\n",
       "      <td>NaN</td>\n",
       "      <td>NaN</td>\n",
       "      <td>NaN</td>\n",
       "    </tr>\n",
       "    <tr>\n",
       "      <th>1</th>\n",
       "      <td>ham</td>\n",
       "      <td>Ok lar... Joking wif u oni...</td>\n",
       "      <td>NaN</td>\n",
       "      <td>NaN</td>\n",
       "      <td>NaN</td>\n",
       "    </tr>\n",
       "    <tr>\n",
       "      <th>2</th>\n",
       "      <td>spam</td>\n",
       "      <td>Free entry in 2 a wkly comp to win FA Cup fina...</td>\n",
       "      <td>NaN</td>\n",
       "      <td>NaN</td>\n",
       "      <td>NaN</td>\n",
       "    </tr>\n",
       "    <tr>\n",
       "      <th>3</th>\n",
       "      <td>ham</td>\n",
       "      <td>U dun say so early hor... U c already then say...</td>\n",
       "      <td>NaN</td>\n",
       "      <td>NaN</td>\n",
       "      <td>NaN</td>\n",
       "    </tr>\n",
       "    <tr>\n",
       "      <th>4</th>\n",
       "      <td>ham</td>\n",
       "      <td>Nah I don't think he goes to usf, he lives aro...</td>\n",
       "      <td>NaN</td>\n",
       "      <td>NaN</td>\n",
       "      <td>NaN</td>\n",
       "    </tr>\n",
       "    <tr>\n",
       "      <th>...</th>\n",
       "      <td>...</td>\n",
       "      <td>...</td>\n",
       "      <td>...</td>\n",
       "      <td>...</td>\n",
       "      <td>...</td>\n",
       "    </tr>\n",
       "    <tr>\n",
       "      <th>5567</th>\n",
       "      <td>spam</td>\n",
       "      <td>This is the 2nd time we have tried 2 contact u...</td>\n",
       "      <td>NaN</td>\n",
       "      <td>NaN</td>\n",
       "      <td>NaN</td>\n",
       "    </tr>\n",
       "    <tr>\n",
       "      <th>5568</th>\n",
       "      <td>ham</td>\n",
       "      <td>Will Ì_ b going to esplanade fr home?</td>\n",
       "      <td>NaN</td>\n",
       "      <td>NaN</td>\n",
       "      <td>NaN</td>\n",
       "    </tr>\n",
       "    <tr>\n",
       "      <th>5569</th>\n",
       "      <td>ham</td>\n",
       "      <td>Pity, * was in mood for that. So...any other s...</td>\n",
       "      <td>NaN</td>\n",
       "      <td>NaN</td>\n",
       "      <td>NaN</td>\n",
       "    </tr>\n",
       "    <tr>\n",
       "      <th>5570</th>\n",
       "      <td>ham</td>\n",
       "      <td>The guy did some bitching but I acted like i'd...</td>\n",
       "      <td>NaN</td>\n",
       "      <td>NaN</td>\n",
       "      <td>NaN</td>\n",
       "    </tr>\n",
       "    <tr>\n",
       "      <th>5571</th>\n",
       "      <td>ham</td>\n",
       "      <td>Rofl. Its true to its name</td>\n",
       "      <td>NaN</td>\n",
       "      <td>NaN</td>\n",
       "      <td>NaN</td>\n",
       "    </tr>\n",
       "  </tbody>\n",
       "</table>\n",
       "<p>5572 rows × 5 columns</p>\n",
       "</div>"
      ],
      "text/plain": [
       "     Category                                            Message Unnamed: 2  \\\n",
       "0         ham  Go until jurong point, crazy.. Available only ...        NaN   \n",
       "1         ham                      Ok lar... Joking wif u oni...        NaN   \n",
       "2        spam  Free entry in 2 a wkly comp to win FA Cup fina...        NaN   \n",
       "3         ham  U dun say so early hor... U c already then say...        NaN   \n",
       "4         ham  Nah I don't think he goes to usf, he lives aro...        NaN   \n",
       "...       ...                                                ...        ...   \n",
       "5567     spam  This is the 2nd time we have tried 2 contact u...        NaN   \n",
       "5568      ham              Will Ì_ b going to esplanade fr home?        NaN   \n",
       "5569      ham  Pity, * was in mood for that. So...any other s...        NaN   \n",
       "5570      ham  The guy did some bitching but I acted like i'd...        NaN   \n",
       "5571      ham                         Rofl. Its true to its name        NaN   \n",
       "\n",
       "     Unnamed: 3 Unnamed: 4  \n",
       "0           NaN        NaN  \n",
       "1           NaN        NaN  \n",
       "2           NaN        NaN  \n",
       "3           NaN        NaN  \n",
       "4           NaN        NaN  \n",
       "...         ...        ...  \n",
       "5567        NaN        NaN  \n",
       "5568        NaN        NaN  \n",
       "5569        NaN        NaN  \n",
       "5570        NaN        NaN  \n",
       "5571        NaN        NaN  \n",
       "\n",
       "[5572 rows x 5 columns]"
      ]
     },
     "execution_count": 3,
     "metadata": {},
     "output_type": "execute_result"
    }
   ],
   "source": [
    "df =  pd.read_csv('SPAM.csv')\n",
    "df"
   ]
  },
  {
   "cell_type": "code",
   "execution_count": 4,
   "id": "74567d76",
   "metadata": {},
   "outputs": [],
   "source": [
    "data = df.drop(labels=['Unnamed: 2', 'Unnamed: 3', 'Unnamed: 4'], axis=1)"
   ]
  },
  {
   "cell_type": "code",
   "execution_count": 5,
   "id": "dd6c7cb4",
   "metadata": {},
   "outputs": [
    {
     "data": {
      "text/plain": [
       "Category    0\n",
       "Message     0\n",
       "dtype: int64"
      ]
     },
     "execution_count": 5,
     "metadata": {},
     "output_type": "execute_result"
    }
   ],
   "source": [
    "data.isnull().sum()"
   ]
  },
  {
   "cell_type": "code",
   "execution_count": 6,
   "id": "6679acf4",
   "metadata": {},
   "outputs": [
    {
     "data": {
      "text/html": [
       "<div>\n",
       "<style scoped>\n",
       "    .dataframe tbody tr th:only-of-type {\n",
       "        vertical-align: middle;\n",
       "    }\n",
       "\n",
       "    .dataframe tbody tr th {\n",
       "        vertical-align: top;\n",
       "    }\n",
       "\n",
       "    .dataframe thead th {\n",
       "        text-align: right;\n",
       "    }\n",
       "</style>\n",
       "<table border=\"1\" class=\"dataframe\">\n",
       "  <thead>\n",
       "    <tr style=\"text-align: right;\">\n",
       "      <th></th>\n",
       "      <th>Category</th>\n",
       "      <th>Message</th>\n",
       "    </tr>\n",
       "  </thead>\n",
       "  <tbody>\n",
       "    <tr>\n",
       "      <th>0</th>\n",
       "      <td>ham</td>\n",
       "      <td>Go until jurong point, crazy.. Available only ...</td>\n",
       "    </tr>\n",
       "    <tr>\n",
       "      <th>1</th>\n",
       "      <td>ham</td>\n",
       "      <td>Ok lar... Joking wif u oni...</td>\n",
       "    </tr>\n",
       "    <tr>\n",
       "      <th>2</th>\n",
       "      <td>spam</td>\n",
       "      <td>Free entry in 2 a wkly comp to win FA Cup fina...</td>\n",
       "    </tr>\n",
       "    <tr>\n",
       "      <th>3</th>\n",
       "      <td>ham</td>\n",
       "      <td>U dun say so early hor... U c already then say...</td>\n",
       "    </tr>\n",
       "    <tr>\n",
       "      <th>4</th>\n",
       "      <td>ham</td>\n",
       "      <td>Nah I don't think he goes to usf, he lives aro...</td>\n",
       "    </tr>\n",
       "  </tbody>\n",
       "</table>\n",
       "</div>"
      ],
      "text/plain": [
       "  Category                                            Message\n",
       "0      ham  Go until jurong point, crazy.. Available only ...\n",
       "1      ham                      Ok lar... Joking wif u oni...\n",
       "2     spam  Free entry in 2 a wkly comp to win FA Cup fina...\n",
       "3      ham  U dun say so early hor... U c already then say...\n",
       "4      ham  Nah I don't think he goes to usf, he lives aro..."
      ]
     },
     "execution_count": 6,
     "metadata": {},
     "output_type": "execute_result"
    }
   ],
   "source": [
    "data.head(5)"
   ]
  },
  {
   "cell_type": "code",
   "execution_count": 7,
   "id": "766dc325",
   "metadata": {},
   "outputs": [
    {
     "data": {
      "image/png": "[encoded data removed]",
      "text/plain": [
       "<Figure size 640x480 with 1 Axes>"
      ]
     },
     "metadata": {},
     "output_type": "display_data"
    }
   ],
   "source": [
    "# Mapping 'spam' to 0 and 'ham' to 1\n",
    "data['Category'] = data['Category'].map({'spam': 0, 'ham': 1})\n",
    "\n",
    "# Count the number of spam and ham messages\n",
    "spam_count = data['Category'].value_counts()[0]\n",
    "ham_count = data['Category'].value_counts()[1]\n",
    "\n",
    "# Create a pie plot\n",
    "labels = ['Spam', 'Ham']\n",
    "sizes = [spam_count, ham_count]\n",
    "colors = ['#ff9999','#66b3ff']\n",
    "explode = (0.1, 0)  # explode the 1st slice (Spam)\n",
    "\n",
    "plt.pie(sizes, explode=explode, labels=labels, colors=colors, autopct='%1.1f%%', startangle=140)\n",
    "plt.axis('equal')  # Equal aspect ratio ensures that pie is drawn as a circle.\n",
    "plt.title('Spam to Ham Ratio')\n",
    "plt.show()\n"
   ]
  },
  {
   "cell_type": "markdown",
   "id": "f64f9c64",
   "metadata": {},
   "source": [
    "## Feature extraction"
   ]
  },
  {
   "cell_type": "code",
   "execution_count": 8,
   "id": "2e2f82d4",
   "metadata": {
    "scrolled": true
   },
   "outputs": [
    {
     "data": {
      "text/plain": [
       "Category     int64\n",
       "Message     object\n",
       "dtype: object"
      ]
     },
     "execution_count": 8,
     "metadata": {},
     "output_type": "execute_result"
    }
   ],
   "source": [
    "data.dtypes"
   ]
  },
  {
   "cell_type": "code",
   "execution_count": 9,
   "id": "5a48466b",
   "metadata": {},
   "outputs": [],
   "source": [
    "data.loc[data['Category'] == 'spam', 'Category',] = 0\n",
    "data.loc[data['Category'] == 'ham', 'Category',] = 1"
   ]
  },
  {
   "cell_type": "code",
   "execution_count": 10,
   "id": "0c1bc1f2",
   "metadata": {},
   "outputs": [
    {
     "data": {
      "text/plain": [
       "Category\n",
       "1    4825\n",
       "0     747\n",
       "Name: count, dtype: int64"
      ]
     },
     "execution_count": 10,
     "metadata": {},
     "output_type": "execute_result"
    }
   ],
   "source": [
    "data['Category'].value_counts()"
   ]
  },
  {
   "cell_type": "code",
   "execution_count": 11,
   "id": "e0c4d4f1",
   "metadata": {},
   "outputs": [],
   "source": [
    "X = data['Message']\n",
    "\n",
    "Y = data['Category']"
   ]
  },
  {
   "cell_type": "code",
   "execution_count": 12,
   "id": "2e966f37",
   "metadata": {},
   "outputs": [
    {
     "data": {
      "text/plain": [
       "0       Go until jurong point, crazy.. Available only ...\n",
       "1                           Ok lar... Joking wif u oni...\n",
       "2       Free entry in 2 a wkly comp to win FA Cup fina...\n",
       "3       U dun say so early hor... U c already then say...\n",
       "4       Nah I don't think he goes to usf, he lives aro...\n",
       "                              ...                        \n",
       "5567    This is the 2nd time we have tried 2 contact u...\n",
       "5568                Will Ì_ b going to esplanade fr home?\n",
       "5569    Pity, * was in mood for that. So...any other s...\n",
       "5570    The guy did some bitching but I acted like i'd...\n",
       "5571                           Rofl. Its true to its name\n",
       "Name: Message, Length: 5572, dtype: object"
      ]
     },
     "execution_count": 12,
     "metadata": {},
     "output_type": "execute_result"
    }
   ],
   "source": [
    "X"
   ]
  },
  {
   "cell_type": "code",
   "execution_count": 13,
   "id": "53ede04d",
   "metadata": {
    "scrolled": true
   },
   "outputs": [
    {
     "data": {
      "text/plain": [
       "0       1\n",
       "1       1\n",
       "2       0\n",
       "3       1\n",
       "4       1\n",
       "       ..\n",
       "5567    0\n",
       "5568    1\n",
       "5569    1\n",
       "5570    1\n",
       "5571    1\n",
       "Name: Category, Length: 5572, dtype: int64"
      ]
     },
     "execution_count": 13,
     "metadata": {},
     "output_type": "execute_result"
    }
   ],
   "source": [
    "Y"
   ]
  },
  {
   "cell_type": "code",
   "execution_count": 14,
   "id": "fa32d29e",
   "metadata": {},
   "outputs": [],
   "source": [
    "# Separate spam and ham messages\n",
    "spam_messages = X[Y == 0]\n",
    "ham_messages = X[Y == 1]\n",
    "\n",
    "# Vectorize spam messages\n",
    "vectorizer_spam = CountVectorizer()\n",
    "X_spam = vectorizer_spam.fit_transform(spam_messages)\n",
    "\n",
    "# Vectorize ham messages\n",
    "vectorizer_ham = CountVectorizer()\n",
    "X_ham = vectorizer_ham.fit_transform(ham_messages)\n",
    "\n",
    "# Get the count of words in spam messages\n",
    "spam_word_count = pd.DataFrame(X_spam.sum(axis=0), columns=vectorizer_spam.get_feature_names_out())\n",
    "spam_word_count = spam_word_count.T.rename(columns={0: 'Count in Spam'})\n",
    "spam_word_count = spam_word_count.sort_values(by='Count in Spam', ascending=False)  # Sort by count\n",
    "\n",
    "# Get the count of words in ham messages\n",
    "ham_word_count = pd.DataFrame(X_ham.sum(axis=0), columns=vectorizer_ham.get_feature_names_out())\n",
    "ham_word_count = ham_word_count.T.rename(columns={0: 'Count in Ham'})\n",
    "ham_word_count = ham_word_count.sort_values(by='Count in Ham', ascending=False)  # Sort by count"
   ]
  },
  {
   "cell_type": "code",
   "execution_count": 15,
   "id": "34c9e1e5",
   "metadata": {},
   "outputs": [
    {
     "name": "stdout",
     "output_type": "stream",
     "text": [
      "Word count in spam messages (ascending order):\n"
     ]
    },
    {
     "data": {
      "text/html": [
       "<div>\n",
       "<style scoped>\n",
       "    .dataframe tbody tr th:only-of-type {\n",
       "        vertical-align: middle;\n",
       "    }\n",
       "\n",
       "    .dataframe tbody tr th {\n",
       "        vertical-align: top;\n",
       "    }\n",
       "\n",
       "    .dataframe thead th {\n",
       "        text-align: right;\n",
       "    }\n",
       "</style>\n",
       "<table border=\"1\" class=\"dataframe\">\n",
       "  <thead>\n",
       "    <tr style=\"text-align: right;\">\n",
       "      <th></th>\n",
       "      <th>Count in Spam</th>\n",
       "    </tr>\n",
       "  </thead>\n",
       "  <tbody>\n",
       "    <tr>\n",
       "      <th>to</th>\n",
       "      <td>688</td>\n",
       "    </tr>\n",
       "    <tr>\n",
       "      <th>call</th>\n",
       "      <td>355</td>\n",
       "    </tr>\n",
       "    <tr>\n",
       "      <th>you</th>\n",
       "      <td>297</td>\n",
       "    </tr>\n",
       "    <tr>\n",
       "      <th>your</th>\n",
       "      <td>264</td>\n",
       "    </tr>\n",
       "    <tr>\n",
       "      <th>free</th>\n",
       "      <td>224</td>\n",
       "    </tr>\n",
       "    <tr>\n",
       "      <th>the</th>\n",
       "      <td>206</td>\n",
       "    </tr>\n",
       "    <tr>\n",
       "      <th>for</th>\n",
       "      <td>203</td>\n",
       "    </tr>\n",
       "    <tr>\n",
       "      <th>now</th>\n",
       "      <td>199</td>\n",
       "    </tr>\n",
       "    <tr>\n",
       "      <th>or</th>\n",
       "      <td>188</td>\n",
       "    </tr>\n",
       "    <tr>\n",
       "      <th>txt</th>\n",
       "      <td>163</td>\n",
       "    </tr>\n",
       "  </tbody>\n",
       "</table>\n",
       "</div>"
      ],
      "text/plain": [
       "      Count in Spam\n",
       "to              688\n",
       "call            355\n",
       "you             297\n",
       "your            264\n",
       "free            224\n",
       "the             206\n",
       "for             203\n",
       "now             199\n",
       "or              188\n",
       "txt             163"
      ]
     },
     "execution_count": 15,
     "metadata": {},
     "output_type": "execute_result"
    }
   ],
   "source": [
    "print(\"Word count in spam messages (ascending order):\")\n",
    "spam_word_count.head(10)"
   ]
  },
  {
   "cell_type": "code",
   "execution_count": 16,
   "id": "983e007c",
   "metadata": {
    "scrolled": true
   },
   "outputs": [
    {
     "name": "stdout",
     "output_type": "stream",
     "text": [
      "\n",
      "Word count in ham messages (ascending order):\n"
     ]
    },
    {
     "data": {
      "text/html": [
       "<div>\n",
       "<style scoped>\n",
       "    .dataframe tbody tr th:only-of-type {\n",
       "        vertical-align: middle;\n",
       "    }\n",
       "\n",
       "    .dataframe tbody tr th {\n",
       "        vertical-align: top;\n",
       "    }\n",
       "\n",
       "    .dataframe thead th {\n",
       "        text-align: right;\n",
       "    }\n",
       "</style>\n",
       "<table border=\"1\" class=\"dataframe\">\n",
       "  <thead>\n",
       "    <tr style=\"text-align: right;\">\n",
       "      <th></th>\n",
       "      <th>Count in Ham</th>\n",
       "    </tr>\n",
       "  </thead>\n",
       "  <tbody>\n",
       "    <tr>\n",
       "      <th>you</th>\n",
       "      <td>1943</td>\n",
       "    </tr>\n",
       "    <tr>\n",
       "      <th>to</th>\n",
       "      <td>1554</td>\n",
       "    </tr>\n",
       "    <tr>\n",
       "      <th>the</th>\n",
       "      <td>1122</td>\n",
       "    </tr>\n",
       "    <tr>\n",
       "      <th>and</th>\n",
       "      <td>857</td>\n",
       "    </tr>\n",
       "    <tr>\n",
       "      <th>in</th>\n",
       "      <td>818</td>\n",
       "    </tr>\n",
       "    <tr>\n",
       "      <th>me</th>\n",
       "      <td>772</td>\n",
       "    </tr>\n",
       "    <tr>\n",
       "      <th>my</th>\n",
       "      <td>750</td>\n",
       "    </tr>\n",
       "    <tr>\n",
       "      <th>is</th>\n",
       "      <td>732</td>\n",
       "    </tr>\n",
       "    <tr>\n",
       "      <th>it</th>\n",
       "      <td>711</td>\n",
       "    </tr>\n",
       "    <tr>\n",
       "      <th>that</th>\n",
       "      <td>551</td>\n",
       "    </tr>\n",
       "  </tbody>\n",
       "</table>\n",
       "</div>"
      ],
      "text/plain": [
       "      Count in Ham\n",
       "you           1943\n",
       "to            1554\n",
       "the           1122\n",
       "and            857\n",
       "in             818\n",
       "me             772\n",
       "my             750\n",
       "is             732\n",
       "it             711\n",
       "that           551"
      ]
     },
     "execution_count": 16,
     "metadata": {},
     "output_type": "execute_result"
    }
   ],
   "source": [
    "print(\"\\nWord count in ham messages (ascending order):\")\n",
    "ham_word_count.head(10)"
   ]
  },
  {
   "cell_type": "code",
   "execution_count": 17,
   "id": "238a6efb",
   "metadata": {},
   "outputs": [
    {
     "data": {
      "image/png": "[encoded data removed]",
      "text/plain": [
       "<Figure size 1000x500 with 2 Axes>"
      ]
     },
     "metadata": {},
     "output_type": "display_data"
    }
   ],
   "source": [
    "# Plot histograms\n",
    "plt.figure(figsize=(10, 5))\n",
    "plt.subplot(1, 2, 1)\n",
    "plt.bar(spam_word_count.index[:10], spam_word_count['Count in Spam'][:10], color='red')\n",
    "plt.title('Word count in spam messages')\n",
    "plt.xlabel('Word')\n",
    "plt.ylabel('Count')\n",
    "plt.grid(True, linestyle='--', alpha=0.5)  # Grid pattern\n",
    "\n",
    "plt.subplot(1, 2, 2)\n",
    "plt.bar(ham_word_count.index[:10], ham_word_count['Count in Ham'][:10], color='blue')\n",
    "plt.title('Word count in ham messages')\n",
    "plt.xlabel('Word')\n",
    "plt.ylabel('Count')\n",
    "plt.grid(True, linestyle='--', alpha=0.5)  # Grid pattern\n",
    "plt.tight_layout()\n",
    "plt.show()"
   ]
  },
  {
   "cell_type": "markdown",
   "id": "5aef2050",
   "metadata": {},
   "source": [
    "## Model train and test"
   ]
  },
  {
   "cell_type": "code",
   "execution_count": 18,
   "id": "e5fcf412",
   "metadata": {},
   "outputs": [],
   "source": [
    "X_train, X_test, Y_train, Y_test = train_test_split(X, Y, test_size=0.2, random_state=3)"
   ]
  },
  {
   "cell_type": "code",
   "execution_count": 19,
   "id": "711f5006",
   "metadata": {},
   "outputs": [
    {
     "name": "stdout",
     "output_type": "stream",
     "text": [
      "(5572,)\n",
      "(4457,)\n",
      "(1115,)\n"
     ]
    }
   ],
   "source": [
    "print(X.shape)\n",
    "print(X_train.shape)\n",
    "print(X_test.shape)"
   ]
  },
  {
   "cell_type": "code",
   "execution_count": 20,
   "id": "a8fdbc37",
   "metadata": {},
   "outputs": [],
   "source": [
    "feature_extraction = TfidfVectorizer(min_df=1, stop_words='english', lowercase=True)"
   ]
  },
  {
   "cell_type": "code",
   "execution_count": 21,
   "id": "796fdced",
   "metadata": {},
   "outputs": [],
   "source": [
    "X_train_features = feature_extraction.fit_transform(X_train)\n",
    "X_test_features = feature_extraction.transform(X_test)"
   ]
  },
  {
   "cell_type": "code",
   "execution_count": 22,
   "id": "124c387b",
   "metadata": {},
   "outputs": [],
   "source": [
    "Y_train = Y_train.astype('int')\n",
    "Y_test = Y_test.astype('int')"
   ]
  },
  {
   "cell_type": "markdown",
   "id": "74683297",
   "metadata": {},
   "source": [
    "# LOGISTIC REGRESSION"
   ]
  },
  {
   "cell_type": "code",
   "execution_count": 23,
   "id": "fdb86511",
   "metadata": {},
   "outputs": [
    {
     "name": "stdout",
     "output_type": "stream",
     "text": [
      "Logistic Regression:\n",
      "\n",
      "Training Data Accuracy: 0.9661207089970832\n",
      "Testing Data Accuracy : 0.9623318385650225\n",
      "Precision             : 0.959\n",
      "Recall                : 0.9989583333333333\n",
      "F1 Score              : 0.9785714285714285\n"
     ]
    }
   ],
   "source": [
    "lr = LogisticRegression()\n",
    "lr.fit(X_train_features, Y_train)\n",
    "\n",
    "\n",
    "lr_train = lr.predict(X_train_features)\n",
    "lr_test = lr.predict(X_test_features)\n",
    "\n",
    "        \n",
    "lr_train_acc = accuracy_score(Y_train, lr_train)\n",
    "lr_test_acc = accuracy_score(Y_test, lr_test)\n",
    "\n",
    "\n",
    "lr_precision = precision_score(Y_test, lr_test)\n",
    "lr_recall = recall_score(Y_test, lr_test)\n",
    "lr_f1 = f1_score(Y_test, lr_test)\n",
    "\n",
    "\n",
    "print(\"Logistic Regression:\\n\")\n",
    "print(\"Training Data Accuracy:\", lr_train_acc)\n",
    "print(\"Testing Data Accuracy :\", lr_test_acc)\n",
    "\n",
    "print(\"Precision             :\", lr_precision)\n",
    "print(\"Recall                :\", lr_recall)\n",
    "print(\"F1 Score              :\", lr_f1)"
   ]
  },
  {
   "cell_type": "markdown",
   "id": "3398ca05",
   "metadata": {},
   "source": [
    "# DECISION TREES"
   ]
  },
  {
   "cell_type": "code",
   "execution_count": 24,
   "id": "669b602f",
   "metadata": {},
   "outputs": [
    {
     "name": "stdout",
     "output_type": "stream",
     "text": [
      "Decision Tress:\n",
      "\n",
      "Training Data Accuracy: 1.0\n",
      "Testing Data Accuracy : 0.9641255605381166\n",
      "Precision             : 0.9713114754098361\n",
      "Recall                : 0.9875\n",
      "F1 Score              : 0.9793388429752066\n"
     ]
    }
   ],
   "source": [
    "dtrees = DecisionTreeClassifier()\n",
    "dtrees.fit(X_train_features, Y_train)\n",
    "\n",
    "\n",
    "dt_train = dtrees.predict(X_train_features)\n",
    "dt_test = dtrees.predict(X_test_features)\n",
    "\n",
    "\n",
    "dt_train_acc = accuracy_score(Y_train, dt_train)\n",
    "dt_test_acc = accuracy_score(Y_test, dt_test)\n",
    "\n",
    "\n",
    "dt_precision = precision_score(Y_test, dt_test)\n",
    "dt_recall = recall_score(Y_test, dt_test)\n",
    "dt_f1 = f1_score(Y_test, dt_test)\n",
    "\n",
    "\n",
    "print(\"Decision Tress:\\n\")\n",
    "print(\"Training Data Accuracy:\", dt_train_acc)\n",
    "print(\"Testing Data Accuracy :\", dt_test_acc)\n",
    "\n",
    "print(\"Precision             :\", dt_precision)\n",
    "print(\"Recall                :\", dt_recall)\n",
    "print(\"F1 Score              :\", dt_f1)"
   ]
  },
  {
   "cell_type": "markdown",
   "id": "90ea91a3",
   "metadata": {},
   "source": [
    "# K NEAREST NEIGHBORS"
   ]
  },
  {
   "cell_type": "code",
   "execution_count": 25,
   "id": "47523a35",
   "metadata": {},
   "outputs": [
    {
     "name": "stdout",
     "output_type": "stream",
     "text": [
      "K Nearest Neighbors:\n",
      "\n",
      "Training Data Accuracy: 0.9199012788871438\n",
      "Testing Data Accuracy : 0.905829596412556\n",
      "Precision             : 0.9014084507042254\n",
      "Recall                : 1.0\n",
      "F1 Score              : 0.9481481481481481\n"
     ]
    }
   ],
   "source": [
    "knn = KNeighborsClassifier()\n",
    "knn.fit(X_train_features, Y_train)\n",
    "\n",
    "\n",
    "knn_train = knn.predict(X_train_features)\n",
    "knn_test = knn.predict(X_test_features)\n",
    "\n",
    "\n",
    "knn_train_acc = accuracy_score(Y_train, knn_train)\n",
    "knn_test_acc = accuracy_score(Y_test, knn_test)\n",
    "\n",
    "\n",
    "knn_precision = precision_score(Y_test, knn_test)\n",
    "knn_recall = recall_score(Y_test, knn_test)\n",
    "knn_f1 = f1_score(Y_test, knn_test)\n",
    "\n",
    "\n",
    "print(\"K Nearest Neighbors:\\n\")\n",
    "print(\"Training Data Accuracy:\", knn_train_acc)\n",
    "print(\"Testing Data Accuracy :\", knn_test_acc)\n",
    "\n",
    "print(\"Precision             :\", knn_precision)\n",
    "print(\"Recall                :\", knn_recall)\n",
    "print(\"F1 Score              :\", knn_f1)"
   ]
  },
  {
   "cell_type": "markdown",
   "id": "43f66f5c",
   "metadata": {},
   "source": [
    "# RANDOM FOREST"
   ]
  },
  {
   "cell_type": "code",
   "execution_count": 26,
   "id": "bf28b066",
   "metadata": {},
   "outputs": [
    {
     "name": "stdout",
     "output_type": "stream",
     "text": [
      "Random Forest:\n",
      "\n",
      "Training Data Accuracy: 1.0\n",
      "Testing Data Accuracy : 0.9802690582959641\n",
      "Precision             : 0.9785714285714285\n",
      "Recall                : 0.9989583333333333\n",
      "F1 Score              : 0.9886597938144329\n"
     ]
    }
   ],
   "source": [
    "rf = RandomForestClassifier()\n",
    "rf.fit(X_train_features, Y_train)\n",
    "\n",
    "\n",
    "rf_train = rf.predict(X_train_features)\n",
    "rf_test = rf.predict(X_test_features)\n",
    "\n",
    "\n",
    "rf_train_acc = accuracy_score(Y_train, rf_train)\n",
    "rf_test_acc = accuracy_score(Y_test, rf_test)\n",
    "\n",
    "\n",
    "rf_precision = precision_score(Y_test, rf_test)\n",
    "rf_recall = recall_score(Y_test, rf_test)\n",
    "rf_f1 = f1_score(Y_test, rf_test)\n",
    "\n",
    "\n",
    "print(\"Random Forest:\\n\")\n",
    "print(\"Training Data Accuracy:\", rf_train_acc)\n",
    "print(\"Testing Data Accuracy :\", rf_test_acc)   \n",
    "           \n",
    "print(\"Precision             :\", rf_precision)\n",
    "print(\"Recall                :\", rf_recall)\n",
    "print(\"F1 Score              :\", rf_f1)"
   ]
  },
  {
   "cell_type": "markdown",
   "id": "ae56053e",
   "metadata": {},
   "source": [
    "# Metrics Visualization"
   ]
  },
  {
   "cell_type": "code",
   "execution_count": 27,
   "id": "c82afbcd",
   "metadata": {},
   "outputs": [],
   "source": [
    "train_acc_list = {\"LR\":lr_train_acc,\n",
    "                  \"DT\":dt_train_acc,\n",
    "                  \"KNN\":knn_train_acc,\n",
    "                  \"RF\":rf_train_acc}\n",
    "test_acc_list = {\"LR\":lr_test_acc,\n",
    "                  \"DT\":dt_test_acc,\n",
    "                  \"KNN\":knn_test_acc,\n",
    "                  \"RF\":rf_test_acc}\n",
    "precision_list = {\"LR\":lr_precision,\n",
    "                  \"DT\":dt_precision,\n",
    "                  \"KNN\":knn_precision,\n",
    "                  \"RF\":rf_precision}\n",
    "recall_list = {\"LR\":lr_recall,\n",
    "               \"DT\":dt_recall,\n",
    "               \"KNN\":knn_recall,\n",
    "               \"RF\":rf_recall}\n",
    "f1_list = {\"LR\":lr_f1,\n",
    "            \"DT\":dt_f1,\n",
    "            \"KNN\":knn_f1,\n",
    "            \"RF\":rf_f1}"
   ]
  },
  {
   "cell_type": "code",
   "execution_count": 28,
   "id": "f23ebde4",
   "metadata": {},
   "outputs": [
    {
     "data": {
      "text/html": [
       "<div>\n",
       "<style scoped>\n",
       "    .dataframe tbody tr th:only-of-type {\n",
       "        vertical-align: middle;\n",
       "    }\n",
       "\n",
       "    .dataframe tbody tr th {\n",
       "        vertical-align: top;\n",
       "    }\n",
       "\n",
       "    .dataframe thead th {\n",
       "        text-align: right;\n",
       "    }\n",
       "</style>\n",
       "<table border=\"1\" class=\"dataframe\">\n",
       "  <thead>\n",
       "    <tr style=\"text-align: right;\">\n",
       "      <th></th>\n",
       "      <th>Traning Accuracy</th>\n",
       "      <th>Testing Accuracy</th>\n",
       "      <th>Precision Score</th>\n",
       "      <th>Recall Score</th>\n",
       "      <th>F1 Score</th>\n",
       "    </tr>\n",
       "  </thead>\n",
       "  <tbody>\n",
       "    <tr>\n",
       "      <th>LR</th>\n",
       "      <td>0.966121</td>\n",
       "      <td>0.962332</td>\n",
       "      <td>0.959000</td>\n",
       "      <td>0.998958</td>\n",
       "      <td>0.978571</td>\n",
       "    </tr>\n",
       "    <tr>\n",
       "      <th>DT</th>\n",
       "      <td>1.000000</td>\n",
       "      <td>0.964126</td>\n",
       "      <td>0.971311</td>\n",
       "      <td>0.987500</td>\n",
       "      <td>0.979339</td>\n",
       "    </tr>\n",
       "    <tr>\n",
       "      <th>KNN</th>\n",
       "      <td>0.919901</td>\n",
       "      <td>0.905830</td>\n",
       "      <td>0.901408</td>\n",
       "      <td>1.000000</td>\n",
       "      <td>0.948148</td>\n",
       "    </tr>\n",
       "    <tr>\n",
       "      <th>RF</th>\n",
       "      <td>1.000000</td>\n",
       "      <td>0.980269</td>\n",
       "      <td>0.978571</td>\n",
       "      <td>0.998958</td>\n",
       "      <td>0.988660</td>\n",
       "    </tr>\n",
       "  </tbody>\n",
       "</table>\n",
       "</div>"
      ],
      "text/plain": [
       "     Traning Accuracy  Testing Accuracy  Precision Score  Recall Score  \\\n",
       "LR           0.966121          0.962332         0.959000      0.998958   \n",
       "DT           1.000000          0.964126         0.971311      0.987500   \n",
       "KNN          0.919901          0.905830         0.901408      1.000000   \n",
       "RF           1.000000          0.980269         0.978571      0.998958   \n",
       "\n",
       "     F1 Score  \n",
       "LR   0.978571  \n",
       "DT   0.979339  \n",
       "KNN  0.948148  \n",
       "RF   0.988660  "
      ]
     },
     "execution_count": 28,
     "metadata": {},
     "output_type": "execute_result"
    }
   ],
   "source": [
    "a1 =  pd.DataFrame.from_dict(train_acc_list, orient = 'index', columns = [\"Traning Accuracy\"])\n",
    "a2 =  pd.DataFrame.from_dict(test_acc_list, orient = 'index', columns = [\"Testing Accuracy\"])\n",
    "a3 =  pd.DataFrame.from_dict(precision_list, orient = 'index', columns = [\"Precision Score\"])\n",
    "a4 =  pd.DataFrame.from_dict(recall_list, orient = 'index', columns = [\"Recall Score\"])\n",
    "a5 =  pd.DataFrame.from_dict(f1_list, orient = 'index', columns = [\"F1 Score\"])\n",
    "org = pd.concat([a1, a2, a3, a4, a5], axis = 1)\n",
    "org"
   ]
  },
  {
   "cell_type": "code",
   "execution_count": 29,
   "id": "c2bf5803",
   "metadata": {
    "scrolled": false
   },
   "outputs": [
    {
     "data": {
      "image/png": "[encoded data removed]",
      "text/plain": [
       "<Figure size 640x480 with 1 Axes>"
      ]
     },
     "metadata": {},
     "output_type": "display_data"
    }
   ],
   "source": [
    "alg = ['LR','DT','KNN','RF']\n",
    "plt.plot(alg,a1)\n",
    "plt.plot(alg,a2)\n",
    "plt.plot(alg,a3)\n",
    "plt.plot(alg,a4)\n",
    "plt.plot(alg,a5)\n",
    "legend = ['Traning Accuracy', 'Testing Accuracy',\n",
    "          'Precision Score', 'Recall Score',\n",
    "          'F1 Score']\n",
    "plt.title(\"METRICS COMPARISION\")\n",
    "plt.legend(legend)\n",
    "plt.show()"
   ]
  },
  {
   "cell_type": "markdown",
   "id": "6eea75b9",
   "metadata": {},
   "source": [
    "# GUI"
   ]
  },
  {
   "cell_type": "code",
   "execution_count": 30,
   "id": "ccce0bf6",
   "metadata": {},
   "outputs": [],
   "source": [
    "import tkinter as tk\n",
    "from tkinter import messagebox\n",
    "from tkinter import ttk\n",
    "from sklearn.feature_extraction.text import TfidfVectorizer\n",
    "from sklearn.linear_model import LogisticRegression\n",
    "from sklearn.tree import DecisionTreeClassifier\n",
    "from sklearn.neighbors import KNeighborsClassifier\n",
    "from sklearn.ensemble import RandomForestClassifier\n",
    "\n",
    "# Define function to classify and display result\n",
    "def classify_and_display_result():\n",
    "    input_mail = text_box.get(\"1.0\", \"end-1c\")  # Retrieve text from the text box\n",
    "    selected_model = model_combobox.get()  # Get the selected model\n",
    "    \n",
    "    if not input_mail:  # Check if the text box is empty\n",
    "        messagebox.showerror(\"Error\", \"Please enter mail's content.\")\n",
    "        return\n",
    "    \n",
    "    if not selected_model:  # Check if a model is selected\n",
    "        messagebox.showerror(\"Error\", \"Please select a model.\")\n",
    "        return\n",
    "    \n",
    "    prediction = fit_vectorizer_and_classify(input_mail, selected_model)\n",
    "    \n",
    "    if prediction is not None:\n",
    "        if prediction == 0:\n",
    "            result_label.config(text=\"SPAM MAIL\", fg=\"red\")\n",
    "        else:\n",
    "            result_label.config(text=\"HAM MAIL\", fg=\"green\")\n",
    "\n",
    "# Initialize Tkinter\n",
    "root = tk.Tk()\n",
    "root.title(\"Spam Classification\")\n",
    "\n",
    "# Create main window\n",
    "root.title(\"Spam Classification\")\n",
    "\n",
    "# Create text box\n",
    "label = tk.Label(root, text=\"Enter mail's contents:\")\n",
    "label.pack()\n",
    "text_box = tk.Text(root, height=10, width=50)\n",
    "text_box.pack()\n",
    "\n",
    "# Create model selection dropdown\n",
    "model_label = tk.Label(root, text=\"Select Model:\")\n",
    "model_label.pack()\n",
    "models = [\"Logistic Regression\", \"Decision Trees\", \"K Nearest Neighbors\", \"Random Forest\"]\n",
    "model_combobox = ttk.Combobox(root, values=models)\n",
    "model_combobox.pack()\n",
    "\n",
    "# Create button to classify mail\n",
    "classify_button = tk.Button(root, text=\"Classify Mail\", command=classify_and_display_result)\n",
    "classify_button.pack()\n",
    "\n",
    "# Label to display result\n",
    "result_label = tk.Label(root, text=\"\", font=(\"Helvetica\", 16))\n",
    "result_label.pack()\n",
    "\n",
    "# Initialize TfidfVectorizer\n",
    "feature_extraction = TfidfVectorizer(min_df=1, stop_words='english', lowercase=True)\n",
    "\n",
    "# Function to fit vectorizer and classify\n",
    "def fit_vectorizer_and_classify(input_mail, selected_model):\n",
    "    # Fit TF-IDF vectorizer with training data\n",
    "    X_train_features = feature_extraction.fit_transform(X_train)\n",
    "    \n",
    "    # Transform input mail into features\n",
    "    input_mail_features = feature_extraction.transform([input_mail])\n",
    "    \n",
    "    # Perform classification based on selected model\n",
    "    if selected_model == \"Logistic Regression\":\n",
    "        model = LogisticRegression()\n",
    "    elif selected_model == \"Decision Trees\":\n",
    "        model = DecisionTreeClassifier()\n",
    "    elif selected_model == \"K Nearest Neighbors\":\n",
    "        model = KNeighborsClassifier()\n",
    "    elif selected_model == \"Random Forest\":\n",
    "        model = RandomForestClassifier()\n",
    "    else:\n",
    "        messagebox.showerror(\"Error\", \"Invalid model selected.\")\n",
    "        return None\n",
    "    \n",
    "    # Train the model and classify the input mail\n",
    "    model.fit(X_train_features, Y_train)\n",
    "    prediction = model.predict(input_mail_features)\n",
    "    return prediction\n",
    "\n",
    "# Start the GUI application\n",
    "root.mainloop()\n"
   ]
  },
  {
   "cell_type": "code",
   "execution_count": null,
   "id": "74a14c4b",
   "metadata": {},
   "outputs": [],
   "source": []
  }
 ],
 "metadata": {
  "kernelspec": {
   "display_name": "Python 3 (ipykernel)",
   "language": "python",
   "name": "python3"
  },
  "language_info": {
   "codemirror_mode": {
    "name": "ipython",
    "version": 3
   },
   "file_extension": ".py",
   "mimetype": "text/x-python",
   "name": "python",
   "nbconvert_exporter": "python",
   "pygments_lexer": "ipython3",
   "version": "3.11.5"
  }
 },
 "nbformat": 4,
 "nbformat_minor": 5
}

{
 "cells": [
  {
   "cell_type": "markdown",
   "id": "0e9f1f0d",
   "metadata": {},
   "source": [
    "## Zomato DataSet EDA\n"
   ]
  },
  {
   "cell_type": "code",
   "execution_count": 202,
   "id": "b735bcf8",
   "metadata": {},
   "outputs": [],
   "source": [
    "# import all libraries\n",
    "import pandas as pd\n",
    "import numpy as np\n",
    "import matplotlib.pyplot as plt\n",
    "import seaborn as sns\n",
    "# for visuals to be displayed here itself \n",
    "%matplotlib inline"
   ]
  },
  {
   "cell_type": "code",
   "execution_count": 203,
   "id": "734214aa",
   "metadata": {},
   "outputs": [
    {
     "data": {
      "text/html": [
       "<div>\n",
       "<style scoped>\n",
       "    .dataframe tbody tr th:only-of-type {\n",
       "        vertical-align: middle;\n",
       "    }\n",
       "\n",
       "    .dataframe tbody tr th {\n",
       "        vertical-align: top;\n",
       "    }\n",
       "\n",
       "    .dataframe thead th {\n",
       "        text-align: right;\n",
       "    }\n",
       "</style>\n",
       "<table border=\"1\" class=\"dataframe\">\n",
       "  <thead>\n",
       "    <tr style=\"text-align: right;\">\n",
       "      <th></th>\n",
       "      <th>Restaurant ID</th>\n",
       "      <th>Restaurant Name</th>\n",
       "      <th>Country Code</th>\n",
       "      <th>City</th>\n",
       "      <th>Address</th>\n",
       "      <th>Locality</th>\n",
       "      <th>Locality Verbose</th>\n",
       "      <th>Longitude</th>\n",
       "      <th>Latitude</th>\n",
       "      <th>Cuisines</th>\n",
       "      <th>...</th>\n",
       "      <th>Currency</th>\n",
       "      <th>Has Table booking</th>\n",
       "      <th>Has Online delivery</th>\n",
       "      <th>Is delivering now</th>\n",
       "      <th>Switch to order menu</th>\n",
       "      <th>Price range</th>\n",
       "      <th>Aggregate rating</th>\n",
       "      <th>Rating color</th>\n",
       "      <th>Rating text</th>\n",
       "      <th>Votes</th>\n",
       "    </tr>\n",
       "  </thead>\n",
       "  <tbody>\n",
       "    <tr>\n",
       "      <th>0</th>\n",
       "      <td>6317637</td>\n",
       "      <td>Le Petit Souffle</td>\n",
       "      <td>162</td>\n",
       "      <td>Makati City</td>\n",
       "      <td>Third Floor, Century City Mall, Kalayaan Avenu...</td>\n",
       "      <td>Century City Mall, Poblacion, Makati City</td>\n",
       "      <td>Century City Mall, Poblacion, Makati City, Mak...</td>\n",
       "      <td>121.027535</td>\n",
       "      <td>14.565443</td>\n",
       "      <td>French, Japanese, Desserts</td>\n",
       "      <td>...</td>\n",
       "      <td>Botswana Pula(P)</td>\n",
       "      <td>Yes</td>\n",
       "      <td>No</td>\n",
       "      <td>No</td>\n",
       "      <td>No</td>\n",
       "      <td>3</td>\n",
       "      <td>4.8</td>\n",
       "      <td>Dark Green</td>\n",
       "      <td>Excellent</td>\n",
       "      <td>314</td>\n",
       "    </tr>\n",
       "    <tr>\n",
       "      <th>1</th>\n",
       "      <td>6304287</td>\n",
       "      <td>Izakaya Kikufuji</td>\n",
       "      <td>162</td>\n",
       "      <td>Makati City</td>\n",
       "      <td>Little Tokyo, 2277 Chino Roces Avenue, Legaspi...</td>\n",
       "      <td>Little Tokyo, Legaspi Village, Makati City</td>\n",
       "      <td>Little Tokyo, Legaspi Village, Makati City, Ma...</td>\n",
       "      <td>121.014101</td>\n",
       "      <td>14.553708</td>\n",
       "      <td>Japanese</td>\n",
       "      <td>...</td>\n",
       "      <td>Botswana Pula(P)</td>\n",
       "      <td>Yes</td>\n",
       "      <td>No</td>\n",
       "      <td>No</td>\n",
       "      <td>No</td>\n",
       "      <td>3</td>\n",
       "      <td>4.5</td>\n",
       "      <td>Dark Green</td>\n",
       "      <td>Excellent</td>\n",
       "      <td>591</td>\n",
       "    </tr>\n",
       "    <tr>\n",
       "      <th>2</th>\n",
       "      <td>6300002</td>\n",
       "      <td>Heat - Edsa Shangri-La</td>\n",
       "      <td>162</td>\n",
       "      <td>Mandaluyong City</td>\n",
       "      <td>Edsa Shangri-La, 1 Garden Way, Ortigas, Mandal...</td>\n",
       "      <td>Edsa Shangri-La, Ortigas, Mandaluyong City</td>\n",
       "      <td>Edsa Shangri-La, Ortigas, Mandaluyong City, Ma...</td>\n",
       "      <td>121.056831</td>\n",
       "      <td>14.581404</td>\n",
       "      <td>Seafood, Asian, Filipino, Indian</td>\n",
       "      <td>...</td>\n",
       "      <td>Botswana Pula(P)</td>\n",
       "      <td>Yes</td>\n",
       "      <td>No</td>\n",
       "      <td>No</td>\n",
       "      <td>No</td>\n",
       "      <td>4</td>\n",
       "      <td>4.4</td>\n",
       "      <td>Green</td>\n",
       "      <td>Very Good</td>\n",
       "      <td>270</td>\n",
       "    </tr>\n",
       "    <tr>\n",
       "      <th>3</th>\n",
       "      <td>6318506</td>\n",
       "      <td>Ooma</td>\n",
       "      <td>162</td>\n",
       "      <td>Mandaluyong City</td>\n",
       "      <td>Third Floor, Mega Fashion Hall, SM Megamall, O...</td>\n",
       "      <td>SM Megamall, Ortigas, Mandaluyong City</td>\n",
       "      <td>SM Megamall, Ortigas, Mandaluyong City, Mandal...</td>\n",
       "      <td>121.056475</td>\n",
       "      <td>14.585318</td>\n",
       "      <td>Japanese, Sushi</td>\n",
       "      <td>...</td>\n",
       "      <td>Botswana Pula(P)</td>\n",
       "      <td>No</td>\n",
       "      <td>No</td>\n",
       "      <td>No</td>\n",
       "      <td>No</td>\n",
       "      <td>4</td>\n",
       "      <td>4.9</td>\n",
       "      <td>Dark Green</td>\n",
       "      <td>Excellent</td>\n",
       "      <td>365</td>\n",
       "    </tr>\n",
       "    <tr>\n",
       "      <th>4</th>\n",
       "      <td>6314302</td>\n",
       "      <td>Sambo Kojin</td>\n",
       "      <td>162</td>\n",
       "      <td>Mandaluyong City</td>\n",
       "      <td>Third Floor, Mega Atrium, SM Megamall, Ortigas...</td>\n",
       "      <td>SM Megamall, Ortigas, Mandaluyong City</td>\n",
       "      <td>SM Megamall, Ortigas, Mandaluyong City, Mandal...</td>\n",
       "      <td>121.057508</td>\n",
       "      <td>14.584450</td>\n",
       "      <td>Japanese, Korean</td>\n",
       "      <td>...</td>\n",
       "      <td>Botswana Pula(P)</td>\n",
       "      <td>Yes</td>\n",
       "      <td>No</td>\n",
       "      <td>No</td>\n",
       "      <td>No</td>\n",
       "      <td>4</td>\n",
       "      <td>4.8</td>\n",
       "      <td>Dark Green</td>\n",
       "      <td>Excellent</td>\n",
       "      <td>229</td>\n",
       "    </tr>\n",
       "  </tbody>\n",
       "</table>\n",
       "<p>5 rows × 21 columns</p>\n",
       "</div>"
      ],
      "text/plain": [
       "   Restaurant ID         Restaurant Name  Country Code              City  \\\n",
       "0        6317637        Le Petit Souffle           162       Makati City   \n",
       "1        6304287        Izakaya Kikufuji           162       Makati City   \n",
       "2        6300002  Heat - Edsa Shangri-La           162  Mandaluyong City   \n",
       "3        6318506                    Ooma           162  Mandaluyong City   \n",
       "4        6314302             Sambo Kojin           162  Mandaluyong City   \n",
       "\n",
       "                                             Address  \\\n",
       "0  Third Floor, Century City Mall, Kalayaan Avenu...   \n",
       "1  Little Tokyo, 2277 Chino Roces Avenue, Legaspi...   \n",
       "2  Edsa Shangri-La, 1 Garden Way, Ortigas, Mandal...   \n",
       "3  Third Floor, Mega Fashion Hall, SM Megamall, O...   \n",
       "4  Third Floor, Mega Atrium, SM Megamall, Ortigas...   \n",
       "\n",
       "                                     Locality  \\\n",
       "0   Century City Mall, Poblacion, Makati City   \n",
       "1  Little Tokyo, Legaspi Village, Makati City   \n",
       "2  Edsa Shangri-La, Ortigas, Mandaluyong City   \n",
       "3      SM Megamall, Ortigas, Mandaluyong City   \n",
       "4      SM Megamall, Ortigas, Mandaluyong City   \n",
       "\n",
       "                                    Locality Verbose   Longitude   Latitude  \\\n",
       "0  Century City Mall, Poblacion, Makati City, Mak...  121.027535  14.565443   \n",
       "1  Little Tokyo, Legaspi Village, Makati City, Ma...  121.014101  14.553708   \n",
       "2  Edsa Shangri-La, Ortigas, Mandaluyong City, Ma...  121.056831  14.581404   \n",
       "3  SM Megamall, Ortigas, Mandaluyong City, Mandal...  121.056475  14.585318   \n",
       "4  SM Megamall, Ortigas, Mandaluyong City, Mandal...  121.057508  14.584450   \n",
       "\n",
       "                           Cuisines  ...          Currency Has Table booking  \\\n",
       "0        French, Japanese, Desserts  ...  Botswana Pula(P)               Yes   \n",
       "1                          Japanese  ...  Botswana Pula(P)               Yes   \n",
       "2  Seafood, Asian, Filipino, Indian  ...  Botswana Pula(P)               Yes   \n",
       "3                   Japanese, Sushi  ...  Botswana Pula(P)                No   \n",
       "4                  Japanese, Korean  ...  Botswana Pula(P)               Yes   \n",
       "\n",
       "  Has Online delivery Is delivering now Switch to order menu Price range  \\\n",
       "0                  No                No                   No           3   \n",
       "1                  No                No                   No           3   \n",
       "2                  No                No                   No           4   \n",
       "3                  No                No                   No           4   \n",
       "4                  No                No                   No           4   \n",
       "\n",
       "   Aggregate rating  Rating color Rating text Votes  \n",
       "0               4.8    Dark Green   Excellent   314  \n",
       "1               4.5    Dark Green   Excellent   591  \n",
       "2               4.4         Green   Very Good   270  \n",
       "3               4.9    Dark Green   Excellent   365  \n",
       "4               4.8    Dark Green   Excellent   229  \n",
       "\n",
       "[5 rows x 21 columns]"
      ]
     },
     "execution_count": 203,
     "metadata": {},
     "output_type": "execute_result"
    }
   ],
   "source": [
    "# checkinh the data\n",
    "# dataframe created\n",
    "df=pd.read_csv(\"zomato.csv\", encoding =\"latin-1\")  # error w/o encoding to latin-1\n",
    "df.head()"
   ]
  },
  {
   "cell_type": "code",
   "execution_count": 204,
   "id": "abafdaf5",
   "metadata": {},
   "outputs": [
    {
     "data": {
      "text/plain": [
       "Index(['Restaurant ID', 'Restaurant Name', 'Country Code', 'City', 'Address',\n",
       "       'Locality', 'Locality Verbose', 'Longitude', 'Latitude', 'Cuisines',\n",
       "       'Average Cost for two', 'Currency', 'Has Table booking',\n",
       "       'Has Online delivery', 'Is delivering now', 'Switch to order menu',\n",
       "       'Price range', 'Aggregate rating', 'Rating color', 'Rating text',\n",
       "       'Votes'],\n",
       "      dtype='object')"
      ]
     },
     "execution_count": 204,
     "metadata": {},
     "output_type": "execute_result"
    }
   ],
   "source": [
    "# what columns are there\n",
    "df.columns"
   ]
  },
  {
   "cell_type": "code",
   "execution_count": 205,
   "id": "b2d268c0",
   "metadata": {},
   "outputs": [
    {
     "name": "stdout",
     "output_type": "stream",
     "text": [
      "<class 'pandas.core.frame.DataFrame'>\n",
      "RangeIndex: 9551 entries, 0 to 9550\n",
      "Data columns (total 21 columns):\n",
      " #   Column                Non-Null Count  Dtype  \n",
      "---  ------                --------------  -----  \n",
      " 0   Restaurant ID         9551 non-null   int64  \n",
      " 1   Restaurant Name       9551 non-null   object \n",
      " 2   Country Code          9551 non-null   int64  \n",
      " 3   City                  9551 non-null   object \n",
      " 4   Address               9551 non-null   object \n",
      " 5   Locality              9551 non-null   object \n",
      " 6   Locality Verbose      9551 non-null   object \n",
      " 7   Longitude             9551 non-null   float64\n",
      " 8   Latitude              9551 non-null   float64\n",
      " 9   Cuisines              9542 non-null   object \n",
      " 10  Average Cost for two  9551 non-null   int64  \n",
      " 11  Currency              9551 non-null   object \n",
      " 12  Has Table booking     9551 non-null   object \n",
      " 13  Has Online delivery   9551 non-null   object \n",
      " 14  Is delivering now     9551 non-null   object \n",
      " 15  Switch to order menu  9551 non-null   object \n",
      " 16  Price range           9551 non-null   int64  \n",
      " 17  Aggregate rating      9551 non-null   float64\n",
      " 18  Rating color          9551 non-null   object \n",
      " 19  Rating text           9551 non-null   object \n",
      " 20  Votes                 9551 non-null   int64  \n",
      "dtypes: float64(3), int64(5), object(13)\n",
      "memory usage: 1.5+ MB\n"
     ]
    }
   ],
   "source": [
    "# Checking data types\n",
    "df.info()"
   ]
  },
  {
   "cell_type": "code",
   "execution_count": 206,
   "id": "b0271286",
   "metadata": {},
   "outputs": [
    {
     "data": {
      "text/html": [
       "<div>\n",
       "<style scoped>\n",
       "    .dataframe tbody tr th:only-of-type {\n",
       "        vertical-align: middle;\n",
       "    }\n",
       "\n",
       "    .dataframe tbody tr th {\n",
       "        vertical-align: top;\n",
       "    }\n",
       "\n",
       "    .dataframe thead th {\n",
       "        text-align: right;\n",
       "    }\n",
       "</style>\n",
       "<table border=\"1\" class=\"dataframe\">\n",
       "  <thead>\n",
       "    <tr style=\"text-align: right;\">\n",
       "      <th></th>\n",
       "      <th>Restaurant ID</th>\n",
       "      <th>Country Code</th>\n",
       "      <th>Longitude</th>\n",
       "      <th>Latitude</th>\n",
       "      <th>Average Cost for two</th>\n",
       "      <th>Price range</th>\n",
       "      <th>Aggregate rating</th>\n",
       "      <th>Votes</th>\n",
       "    </tr>\n",
       "  </thead>\n",
       "  <tbody>\n",
       "    <tr>\n",
       "      <th>count</th>\n",
       "      <td>9.551000e+03</td>\n",
       "      <td>9551.000000</td>\n",
       "      <td>9551.000000</td>\n",
       "      <td>9551.000000</td>\n",
       "      <td>9551.000000</td>\n",
       "      <td>9551.000000</td>\n",
       "      <td>9551.000000</td>\n",
       "      <td>9551.000000</td>\n",
       "    </tr>\n",
       "    <tr>\n",
       "      <th>mean</th>\n",
       "      <td>9.051128e+06</td>\n",
       "      <td>18.365616</td>\n",
       "      <td>64.126574</td>\n",
       "      <td>25.854381</td>\n",
       "      <td>1199.210763</td>\n",
       "      <td>1.804837</td>\n",
       "      <td>2.666370</td>\n",
       "      <td>156.909748</td>\n",
       "    </tr>\n",
       "    <tr>\n",
       "      <th>std</th>\n",
       "      <td>8.791521e+06</td>\n",
       "      <td>56.750546</td>\n",
       "      <td>41.467058</td>\n",
       "      <td>11.007935</td>\n",
       "      <td>16121.183073</td>\n",
       "      <td>0.905609</td>\n",
       "      <td>1.516378</td>\n",
       "      <td>430.169145</td>\n",
       "    </tr>\n",
       "    <tr>\n",
       "      <th>min</th>\n",
       "      <td>5.300000e+01</td>\n",
       "      <td>1.000000</td>\n",
       "      <td>-157.948486</td>\n",
       "      <td>-41.330428</td>\n",
       "      <td>0.000000</td>\n",
       "      <td>1.000000</td>\n",
       "      <td>0.000000</td>\n",
       "      <td>0.000000</td>\n",
       "    </tr>\n",
       "    <tr>\n",
       "      <th>25%</th>\n",
       "      <td>3.019625e+05</td>\n",
       "      <td>1.000000</td>\n",
       "      <td>77.081343</td>\n",
       "      <td>28.478713</td>\n",
       "      <td>250.000000</td>\n",
       "      <td>1.000000</td>\n",
       "      <td>2.500000</td>\n",
       "      <td>5.000000</td>\n",
       "    </tr>\n",
       "    <tr>\n",
       "      <th>50%</th>\n",
       "      <td>6.004089e+06</td>\n",
       "      <td>1.000000</td>\n",
       "      <td>77.191964</td>\n",
       "      <td>28.570469</td>\n",
       "      <td>400.000000</td>\n",
       "      <td>2.000000</td>\n",
       "      <td>3.200000</td>\n",
       "      <td>31.000000</td>\n",
       "    </tr>\n",
       "    <tr>\n",
       "      <th>75%</th>\n",
       "      <td>1.835229e+07</td>\n",
       "      <td>1.000000</td>\n",
       "      <td>77.282006</td>\n",
       "      <td>28.642758</td>\n",
       "      <td>700.000000</td>\n",
       "      <td>2.000000</td>\n",
       "      <td>3.700000</td>\n",
       "      <td>131.000000</td>\n",
       "    </tr>\n",
       "    <tr>\n",
       "      <th>max</th>\n",
       "      <td>1.850065e+07</td>\n",
       "      <td>216.000000</td>\n",
       "      <td>174.832089</td>\n",
       "      <td>55.976980</td>\n",
       "      <td>800000.000000</td>\n",
       "      <td>4.000000</td>\n",
       "      <td>4.900000</td>\n",
       "      <td>10934.000000</td>\n",
       "    </tr>\n",
       "  </tbody>\n",
       "</table>\n",
       "</div>"
      ],
      "text/plain": [
       "       Restaurant ID  Country Code    Longitude     Latitude  \\\n",
       "count   9.551000e+03   9551.000000  9551.000000  9551.000000   \n",
       "mean    9.051128e+06     18.365616    64.126574    25.854381   \n",
       "std     8.791521e+06     56.750546    41.467058    11.007935   \n",
       "min     5.300000e+01      1.000000  -157.948486   -41.330428   \n",
       "25%     3.019625e+05      1.000000    77.081343    28.478713   \n",
       "50%     6.004089e+06      1.000000    77.191964    28.570469   \n",
       "75%     1.835229e+07      1.000000    77.282006    28.642758   \n",
       "max     1.850065e+07    216.000000   174.832089    55.976980   \n",
       "\n",
       "       Average Cost for two  Price range  Aggregate rating         Votes  \n",
       "count           9551.000000  9551.000000       9551.000000   9551.000000  \n",
       "mean            1199.210763     1.804837          2.666370    156.909748  \n",
       "std            16121.183073     0.905609          1.516378    430.169145  \n",
       "min                0.000000     1.000000          0.000000      0.000000  \n",
       "25%              250.000000     1.000000          2.500000      5.000000  \n",
       "50%              400.000000     2.000000          3.200000     31.000000  \n",
       "75%              700.000000     2.000000          3.700000    131.000000  \n",
       "max           800000.000000     4.000000          4.900000  10934.000000  "
      ]
     },
     "execution_count": 206,
     "metadata": {},
     "output_type": "execute_result"
    }
   ],
   "source": [
    "#Checkinh integer features' KPIs\n",
    "df.describe()"
   ]
  },
  {
   "cell_type": "markdown",
   "id": "0450f147",
   "metadata": {},
   "source": [
    "## To Do\n",
    "1. Check for Missing Values\n",
    "2. Explore About the Numerical Variables\n",
    "3. Explore About categorical Variables\n",
    "4. Finding Relationship between feature"
   ]
  },
  {
   "cell_type": "code",
   "execution_count": 207,
   "id": "6a575d70",
   "metadata": {},
   "outputs": [
    {
     "data": {
      "text/plain": [
       "(9551, 21)"
      ]
     },
     "execution_count": 207,
     "metadata": {},
     "output_type": "execute_result"
    }
   ],
   "source": [
    "# Checking all data recordings\n",
    "df.shape"
   ]
  },
  {
   "cell_type": "code",
   "execution_count": 208,
   "id": "74475575",
   "metadata": {},
   "outputs": [
    {
     "data": {
      "text/plain": [
       "Restaurant ID           0\n",
       "Restaurant Name         0\n",
       "Country Code            0\n",
       "City                    0\n",
       "Address                 0\n",
       "Locality                0\n",
       "Locality Verbose        0\n",
       "Longitude               0\n",
       "Latitude                0\n",
       "Cuisines                9\n",
       "Average Cost for two    0\n",
       "Currency                0\n",
       "Has Table booking       0\n",
       "Has Online delivery     0\n",
       "Is delivering now       0\n",
       "Switch to order menu    0\n",
       "Price range             0\n",
       "Aggregate rating        0\n",
       "Rating color            0\n",
       "Rating text             0\n",
       "Votes                   0\n",
       "dtype: int64"
      ]
     },
     "execution_count": 208,
     "metadata": {},
     "output_type": "execute_result"
    }
   ],
   "source": [
    "# Missing Value Checking\n",
    "df.isnull().sum() # df.isnull gives bool (True/False) for cell data"
   ]
  },
  {
   "cell_type": "code",
   "execution_count": 209,
   "id": "752d39f1",
   "metadata": {},
   "outputs": [
    {
     "data": {
      "text/plain": [
       "['Cuisines']"
      ]
     },
     "execution_count": 209,
     "metadata": {},
     "output_type": "execute_result"
    }
   ],
   "source": [
    "# Cuisines have 9 Missing Values\n",
    "[features for features in df.columns if df[features].isnull().sum() > 1]"
   ]
  },
  {
   "cell_type": "code",
   "execution_count": 210,
   "id": "9217ea2e",
   "metadata": {},
   "outputs": [
    {
     "data": {
      "image/png": "[encoded data removed]",
      "text/plain": [
       "<Figure size 1200x600 with 1 Axes>"
      ]
     },
     "metadata": {},
     "output_type": "display_data"
    }
   ],
   "source": [
    "#Visuals for missing value\n",
    "sns.heatmap(df.isnull(), cmap='viridis', cbar=False)\n",
    "plt.title('Missing Values Heatmap') \n",
    "plt.show()"
   ]
  },
  {
   "cell_type": "markdown",
   "id": "86653283",
   "metadata": {},
   "source": [
    "Yellow line shows there are missing values in the given attribute"
   ]
  },
  {
   "cell_type": "code",
   "execution_count": 211,
   "id": "e618d652",
   "metadata": {},
   "outputs": [
    {
     "data": {
      "text/plain": [
       "[]"
      ]
     },
     "execution_count": 211,
     "metadata": {},
     "output_type": "execute_result"
    }
   ],
   "source": [
    "#Remove rows with missing values\n",
    "df_clean = df.dropna()\n",
    "#checking if null removed or not\n",
    "# df_clean.isnull().sum() \n",
    "[features for features in df_clean.columns if df_clean[features].isnull().sum() > 1] # No Attribute shown"
   ]
  },
  {
   "cell_type": "code",
   "execution_count": 212,
   "id": "d2354522",
   "metadata": {},
   "outputs": [],
   "source": [
    "#overwritting df with clean dataset\n",
    "df = df_clean"
   ]
  },
  {
   "cell_type": "code",
   "execution_count": 213,
   "id": "9da585fa",
   "metadata": {},
   "outputs": [
    {
     "data": {
      "image/png": "[encoded data removed]",
      "text/plain": [
       "<Figure size 1200x600 with 1 Axes>"
      ]
     },
     "metadata": {},
     "output_type": "display_data"
    }
   ],
   "source": [
    "#New Visuals\n",
    "sns.heatmap(df.isnull(), cmap='viridis', cbar=False)\n",
    "plt.title('New Missing Values Heatmap')\n",
    "plt.show()"
   ]
  },
  {
   "cell_type": "markdown",
   "id": "d2a13c4a",
   "metadata": {},
   "source": [
    "    No more missing values exist"
   ]
  },
  {
   "cell_type": "code",
   "execution_count": 214,
   "id": "8daa5493",
   "metadata": {},
   "outputs": [
    {
     "data": {
      "text/html": [
       "<div>\n",
       "<style scoped>\n",
       "    .dataframe tbody tr th:only-of-type {\n",
       "        vertical-align: middle;\n",
       "    }\n",
       "\n",
       "    .dataframe tbody tr th {\n",
       "        vertical-align: top;\n",
       "    }\n",
       "\n",
       "    .dataframe thead th {\n",
       "        text-align: right;\n",
       "    }\n",
       "</style>\n",
       "<table border=\"1\" class=\"dataframe\">\n",
       "  <thead>\n",
       "    <tr style=\"text-align: right;\">\n",
       "      <th></th>\n",
       "      <th>Country Code</th>\n",
       "      <th>Country</th>\n",
       "    </tr>\n",
       "  </thead>\n",
       "  <tbody>\n",
       "    <tr>\n",
       "      <th>0</th>\n",
       "      <td>1</td>\n",
       "      <td>India</td>\n",
       "    </tr>\n",
       "    <tr>\n",
       "      <th>1</th>\n",
       "      <td>14</td>\n",
       "      <td>Australia</td>\n",
       "    </tr>\n",
       "    <tr>\n",
       "      <th>2</th>\n",
       "      <td>30</td>\n",
       "      <td>Brazil</td>\n",
       "    </tr>\n",
       "    <tr>\n",
       "      <th>3</th>\n",
       "      <td>37</td>\n",
       "      <td>Canada</td>\n",
       "    </tr>\n",
       "    <tr>\n",
       "      <th>4</th>\n",
       "      <td>94</td>\n",
       "      <td>Indonesia</td>\n",
       "    </tr>\n",
       "  </tbody>\n",
       "</table>\n",
       "</div>"
      ],
      "text/plain": [
       "   Country Code    Country\n",
       "0             1      India\n",
       "1            14  Australia\n",
       "2            30     Brazil\n",
       "3            37     Canada\n",
       "4            94  Indonesia"
      ]
     },
     "execution_count": 214,
     "metadata": {},
     "output_type": "execute_result"
    }
   ],
   "source": [
    "#checking country-code.xlsx\n",
    "df_country_code=pd.read_excel('Country-Code.xlsx')\n",
    "\n",
    "df_country_code.head()"
   ]
  },
  {
   "cell_type": "code",
   "execution_count": 215,
   "id": "7595cf23",
   "metadata": {},
   "outputs": [
    {
     "data": {
      "text/html": [
       "<div>\n",
       "<style scoped>\n",
       "    .dataframe tbody tr th:only-of-type {\n",
       "        vertical-align: middle;\n",
       "    }\n",
       "\n",
       "    .dataframe tbody tr th {\n",
       "        vertical-align: top;\n",
       "    }\n",
       "\n",
       "    .dataframe thead th {\n",
       "        text-align: right;\n",
       "    }\n",
       "</style>\n",
       "<table border=\"1\" class=\"dataframe\">\n",
       "  <thead>\n",
       "    <tr style=\"text-align: right;\">\n",
       "      <th></th>\n",
       "      <th>Restaurant ID</th>\n",
       "      <th>Restaurant Name</th>\n",
       "      <th>Country Code</th>\n",
       "      <th>City</th>\n",
       "      <th>Address</th>\n",
       "      <th>Locality</th>\n",
       "      <th>Locality Verbose</th>\n",
       "      <th>Longitude</th>\n",
       "      <th>Latitude</th>\n",
       "      <th>Cuisines</th>\n",
       "      <th>...</th>\n",
       "      <th>Has Table booking</th>\n",
       "      <th>Has Online delivery</th>\n",
       "      <th>Is delivering now</th>\n",
       "      <th>Switch to order menu</th>\n",
       "      <th>Price range</th>\n",
       "      <th>Aggregate rating</th>\n",
       "      <th>Rating color</th>\n",
       "      <th>Rating text</th>\n",
       "      <th>Votes</th>\n",
       "      <th>Country</th>\n",
       "    </tr>\n",
       "  </thead>\n",
       "  <tbody>\n",
       "    <tr>\n",
       "      <th>0</th>\n",
       "      <td>6317637</td>\n",
       "      <td>Le Petit Souffle</td>\n",
       "      <td>162</td>\n",
       "      <td>Makati City</td>\n",
       "      <td>Third Floor, Century City Mall, Kalayaan Avenu...</td>\n",
       "      <td>Century City Mall, Poblacion, Makati City</td>\n",
       "      <td>Century City Mall, Poblacion, Makati City, Mak...</td>\n",
       "      <td>121.027535</td>\n",
       "      <td>14.565443</td>\n",
       "      <td>French, Japanese, Desserts</td>\n",
       "      <td>...</td>\n",
       "      <td>Yes</td>\n",
       "      <td>No</td>\n",
       "      <td>No</td>\n",
       "      <td>No</td>\n",
       "      <td>3</td>\n",
       "      <td>4.8</td>\n",
       "      <td>Dark Green</td>\n",
       "      <td>Excellent</td>\n",
       "      <td>314</td>\n",
       "      <td>Phillipines</td>\n",
       "    </tr>\n",
       "    <tr>\n",
       "      <th>1</th>\n",
       "      <td>6304287</td>\n",
       "      <td>Izakaya Kikufuji</td>\n",
       "      <td>162</td>\n",
       "      <td>Makati City</td>\n",
       "      <td>Little Tokyo, 2277 Chino Roces Avenue, Legaspi...</td>\n",
       "      <td>Little Tokyo, Legaspi Village, Makati City</td>\n",
       "      <td>Little Tokyo, Legaspi Village, Makati City, Ma...</td>\n",
       "      <td>121.014101</td>\n",
       "      <td>14.553708</td>\n",
       "      <td>Japanese</td>\n",
       "      <td>...</td>\n",
       "      <td>Yes</td>\n",
       "      <td>No</td>\n",
       "      <td>No</td>\n",
       "      <td>No</td>\n",
       "      <td>3</td>\n",
       "      <td>4.5</td>\n",
       "      <td>Dark Green</td>\n",
       "      <td>Excellent</td>\n",
       "      <td>591</td>\n",
       "      <td>Phillipines</td>\n",
       "    </tr>\n",
       "  </tbody>\n",
       "</table>\n",
       "<p>2 rows × 22 columns</p>\n",
       "</div>"
      ],
      "text/plain": [
       "   Restaurant ID   Restaurant Name  Country Code         City  \\\n",
       "0        6317637  Le Petit Souffle           162  Makati City   \n",
       "1        6304287  Izakaya Kikufuji           162  Makati City   \n",
       "\n",
       "                                             Address  \\\n",
       "0  Third Floor, Century City Mall, Kalayaan Avenu...   \n",
       "1  Little Tokyo, 2277 Chino Roces Avenue, Legaspi...   \n",
       "\n",
       "                                     Locality  \\\n",
       "0   Century City Mall, Poblacion, Makati City   \n",
       "1  Little Tokyo, Legaspi Village, Makati City   \n",
       "\n",
       "                                    Locality Verbose   Longitude   Latitude  \\\n",
       "0  Century City Mall, Poblacion, Makati City, Mak...  121.027535  14.565443   \n",
       "1  Little Tokyo, Legaspi Village, Makati City, Ma...  121.014101  14.553708   \n",
       "\n",
       "                     Cuisines  ...  Has Table booking Has Online delivery  \\\n",
       "0  French, Japanese, Desserts  ...                Yes                  No   \n",
       "1                    Japanese  ...                Yes                  No   \n",
       "\n",
       "  Is delivering now Switch to order menu Price range Aggregate rating  \\\n",
       "0                No                   No           3              4.8   \n",
       "1                No                   No           3              4.5   \n",
       "\n",
       "   Rating color  Rating text Votes      Country  \n",
       "0    Dark Green    Excellent   314  Phillipines  \n",
       "1    Dark Green    Excellent   591  Phillipines  \n",
       "\n",
       "[2 rows x 22 columns]"
      ]
     },
     "execution_count": 215,
     "metadata": {},
     "output_type": "execute_result"
    }
   ],
   "source": [
    "#Combining both DataFrame on attrubute country code\n",
    "final_df=pd.merge(df_clean,df_country_code,on='Country Code', how='left')\n",
    "\n",
    "final_df.head(2)"
   ]
  },
  {
   "cell_type": "code",
   "execution_count": 216,
   "id": "c48bd859",
   "metadata": {},
   "outputs": [
    {
     "name": "stdout",
     "output_type": "stream",
     "text": [
      "<class 'pandas.core.frame.DataFrame'>\n",
      "RangeIndex: 9542 entries, 0 to 9541\n",
      "Data columns (total 22 columns):\n",
      " #   Column                Non-Null Count  Dtype  \n",
      "---  ------                --------------  -----  \n",
      " 0   Restaurant ID         9542 non-null   int64  \n",
      " 1   Restaurant Name       9542 non-null   object \n",
      " 2   Country Code          9542 non-null   int64  \n",
      " 3   City                  9542 non-null   object \n",
      " 4   Address               9542 non-null   object \n",
      " 5   Locality              9542 non-null   object \n",
      " 6   Locality Verbose      9542 non-null   object \n",
      " 7   Longitude             9542 non-null   float64\n",
      " 8   Latitude              9542 non-null   float64\n",
      " 9   Cuisines              9542 non-null   object \n",
      " 10  Average Cost for two  9542 non-null   int64  \n",
      " 11  Currency              9542 non-null   object \n",
      " 12  Has Table booking     9542 non-null   object \n",
      " 13  Has Online delivery   9542 non-null   object \n",
      " 14  Is delivering now     9542 non-null   object \n",
      " 15  Switch to order menu  9542 non-null   object \n",
      " 16  Price range           9542 non-null   int64  \n",
      " 17  Aggregate rating      9542 non-null   float64\n",
      " 18  Rating color          9542 non-null   object \n",
      " 19  Rating text           9542 non-null   object \n",
      " 20  Votes                 9542 non-null   int64  \n",
      " 21  Country               9542 non-null   object \n",
      "dtypes: float64(3), int64(5), object(14)\n",
      "memory usage: 1.6+ MB\n"
     ]
    }
   ],
   "source": [
    "# Checking Datatype\n",
    "final_df.info()"
   ]
  },
  {
   "cell_type": "code",
   "execution_count": 217,
   "id": "644acacc",
   "metadata": {},
   "outputs": [
    {
     "data": {
      "text/plain": [
       "Country\n",
       "India             8652\n",
       "United States      425\n",
       "United Kingdom      80\n",
       "Brazil              60\n",
       "UAE                 60\n",
       "South Africa        60\n",
       "New Zealand         40\n",
       "Turkey              34\n",
       "Australia           24\n",
       "Phillipines         22\n",
       "Indonesia           21\n",
       "Singapore           20\n",
       "Qatar               20\n",
       "Sri Lanka           20\n",
       "Canada               4\n",
       "Name: count, dtype: int64"
      ]
     },
     "execution_count": 217,
     "metadata": {},
     "output_type": "execute_result"
    }
   ],
   "source": [
    "final_df.Country.value_counts()"
   ]
  },
  {
   "cell_type": "code",
   "execution_count": 218,
   "id": "18e67f21",
   "metadata": {},
   "outputs": [
    {
     "data": {
      "text/plain": [
       "Country Code  Country       \n",
       "1             India             8652\n",
       "216           United States      425\n",
       "215           United Kingdom      80\n",
       "30            Brazil              60\n",
       "189           South Africa        60\n",
       "214           UAE                 60\n",
       "148           New Zealand         40\n",
       "208           Turkey              34\n",
       "14            Australia           24\n",
       "162           Phillipines         22\n",
       "94            Indonesia           21\n",
       "166           Qatar               20\n",
       "184           Singapore           20\n",
       "191           Sri Lanka           20\n",
       "37            Canada               4\n",
       "dtype: int64"
      ]
     },
     "execution_count": 218,
     "metadata": {},
     "output_type": "execute_result"
    }
   ],
   "source": [
    "# Data Count\n",
    "final_df.groupby(['Country Code','Country']).size().sort_values(ascending=False)"
   ]
  },
  {
   "cell_type": "code",
   "execution_count": 219,
   "id": "df884257",
   "metadata": {},
   "outputs": [
    {
     "data": {
      "text/plain": [
       "Index(['India', 'United States', 'United Kingdom', 'Brazil', 'UAE',\n",
       "       'South Africa', 'New Zealand', 'Turkey', 'Australia', 'Phillipines',\n",
       "       'Indonesia', 'Singapore', 'Qatar', 'Sri Lanka', 'Canada'],\n",
       "      dtype='object', name='Country')"
      ]
     },
     "execution_count": 219,
     "metadata": {},
     "output_type": "execute_result"
    }
   ],
   "source": [
    "final_df.Country.value_counts().index"
   ]
  },
  {
   "cell_type": "code",
   "execution_count": 220,
   "id": "788fd8eb",
   "metadata": {},
   "outputs": [],
   "source": [
    "country_names=final_df.Country.value_counts().index"
   ]
  },
  {
   "cell_type": "code",
   "execution_count": 221,
   "id": "7b134f04",
   "metadata": {},
   "outputs": [
    {
     "data": {
      "text/plain": [
       "array([8652,  425,   80,   60,   60,   60,   40,   34,   24,   22,   21,\n",
       "         20,   20,   20,    4], dtype=int64)"
      ]
     },
     "execution_count": 221,
     "metadata": {},
     "output_type": "execute_result"
    }
   ],
   "source": [
    "final_df['Country Code'].value_counts().values\n",
    "#final_df['Country Code'].value_counts().index gives country code, we need count"
   ]
  },
  {
   "cell_type": "code",
   "execution_count": 222,
   "id": "8f3385f0",
   "metadata": {},
   "outputs": [],
   "source": [
    "order_count_val = final_df['Country Code'].value_counts().values"
   ]
  },
  {
   "cell_type": "code",
   "execution_count": 223,
   "id": "5588ab5c",
   "metadata": {},
   "outputs": [
    {
     "data": {
      "text/plain": [
       "Text(0.5, 1.0, 'Top 3 countries over total orders')"
      ]
     },
     "execution_count": 223,
     "metadata": {},
     "output_type": "execute_result"
    },
    {
     "data": {
      "image/png": "[encoded data removed]",
      "text/plain": [
       "<Figure size 1200x600 with 1 Axes>"
      ]
     },
     "metadata": {},
     "output_type": "display_data"
    }
   ],
   "source": [
    "#pie plot for top 3 countries\n",
    "plt.pie(order_count_val[:3],labels=country_names[:3],autopct='%1.2f%%') \n",
    "# %1.2f%% is to show % of total\n",
    "#over data value order_count_val and on label country_names \n",
    "# :3 for top 3 countries\n",
    "plt.title('Top 3 countries over total orders')"
   ]
  },
  {
   "cell_type": "code",
   "execution_count": 224,
   "id": "b915668e",
   "metadata": {},
   "outputs": [
    {
     "data": {
      "text/html": [
       "<div>\n",
       "<style scoped>\n",
       "    .dataframe tbody tr th:only-of-type {\n",
       "        vertical-align: middle;\n",
       "    }\n",
       "\n",
       "    .dataframe tbody tr th {\n",
       "        vertical-align: top;\n",
       "    }\n",
       "\n",
       "    .dataframe thead th {\n",
       "        text-align: right;\n",
       "    }\n",
       "</style>\n",
       "<table border=\"1\" class=\"dataframe\">\n",
       "  <thead>\n",
       "    <tr style=\"text-align: right;\">\n",
       "      <th></th>\n",
       "      <th>Aggregate rating</th>\n",
       "      <th>Rating color</th>\n",
       "      <th>Rating text</th>\n",
       "      <th>0</th>\n",
       "    </tr>\n",
       "  </thead>\n",
       "  <tbody>\n",
       "    <tr>\n",
       "      <th>0</th>\n",
       "      <td>0.0</td>\n",
       "      <td>White</td>\n",
       "      <td>Not rated</td>\n",
       "      <td>2148</td>\n",
       "    </tr>\n",
       "    <tr>\n",
       "      <th>1</th>\n",
       "      <td>1.8</td>\n",
       "      <td>Red</td>\n",
       "      <td>Poor</td>\n",
       "      <td>1</td>\n",
       "    </tr>\n",
       "    <tr>\n",
       "      <th>2</th>\n",
       "      <td>1.9</td>\n",
       "      <td>Red</td>\n",
       "      <td>Poor</td>\n",
       "      <td>2</td>\n",
       "    </tr>\n",
       "    <tr>\n",
       "      <th>3</th>\n",
       "      <td>2.0</td>\n",
       "      <td>Red</td>\n",
       "      <td>Poor</td>\n",
       "      <td>7</td>\n",
       "    </tr>\n",
       "    <tr>\n",
       "      <th>4</th>\n",
       "      <td>2.1</td>\n",
       "      <td>Red</td>\n",
       "      <td>Poor</td>\n",
       "      <td>15</td>\n",
       "    </tr>\n",
       "    <tr>\n",
       "      <th>5</th>\n",
       "      <td>2.2</td>\n",
       "      <td>Red</td>\n",
       "      <td>Poor</td>\n",
       "      <td>27</td>\n",
       "    </tr>\n",
       "    <tr>\n",
       "      <th>6</th>\n",
       "      <td>2.3</td>\n",
       "      <td>Red</td>\n",
       "      <td>Poor</td>\n",
       "      <td>47</td>\n",
       "    </tr>\n",
       "    <tr>\n",
       "      <th>7</th>\n",
       "      <td>2.4</td>\n",
       "      <td>Red</td>\n",
       "      <td>Poor</td>\n",
       "      <td>87</td>\n",
       "    </tr>\n",
       "    <tr>\n",
       "      <th>8</th>\n",
       "      <td>2.5</td>\n",
       "      <td>Orange</td>\n",
       "      <td>Average</td>\n",
       "      <td>110</td>\n",
       "    </tr>\n",
       "    <tr>\n",
       "      <th>9</th>\n",
       "      <td>2.6</td>\n",
       "      <td>Orange</td>\n",
       "      <td>Average</td>\n",
       "      <td>191</td>\n",
       "    </tr>\n",
       "    <tr>\n",
       "      <th>10</th>\n",
       "      <td>2.7</td>\n",
       "      <td>Orange</td>\n",
       "      <td>Average</td>\n",
       "      <td>250</td>\n",
       "    </tr>\n",
       "    <tr>\n",
       "      <th>11</th>\n",
       "      <td>2.8</td>\n",
       "      <td>Orange</td>\n",
       "      <td>Average</td>\n",
       "      <td>315</td>\n",
       "    </tr>\n",
       "    <tr>\n",
       "      <th>12</th>\n",
       "      <td>2.9</td>\n",
       "      <td>Orange</td>\n",
       "      <td>Average</td>\n",
       "      <td>381</td>\n",
       "    </tr>\n",
       "    <tr>\n",
       "      <th>13</th>\n",
       "      <td>3.0</td>\n",
       "      <td>Orange</td>\n",
       "      <td>Average</td>\n",
       "      <td>468</td>\n",
       "    </tr>\n",
       "    <tr>\n",
       "      <th>14</th>\n",
       "      <td>3.1</td>\n",
       "      <td>Orange</td>\n",
       "      <td>Average</td>\n",
       "      <td>519</td>\n",
       "    </tr>\n",
       "    <tr>\n",
       "      <th>15</th>\n",
       "      <td>3.2</td>\n",
       "      <td>Orange</td>\n",
       "      <td>Average</td>\n",
       "      <td>522</td>\n",
       "    </tr>\n",
       "    <tr>\n",
       "      <th>16</th>\n",
       "      <td>3.3</td>\n",
       "      <td>Orange</td>\n",
       "      <td>Average</td>\n",
       "      <td>483</td>\n",
       "    </tr>\n",
       "    <tr>\n",
       "      <th>17</th>\n",
       "      <td>3.4</td>\n",
       "      <td>Orange</td>\n",
       "      <td>Average</td>\n",
       "      <td>495</td>\n",
       "    </tr>\n",
       "    <tr>\n",
       "      <th>18</th>\n",
       "      <td>3.5</td>\n",
       "      <td>Yellow</td>\n",
       "      <td>Good</td>\n",
       "      <td>480</td>\n",
       "    </tr>\n",
       "    <tr>\n",
       "      <th>19</th>\n",
       "      <td>3.6</td>\n",
       "      <td>Yellow</td>\n",
       "      <td>Good</td>\n",
       "      <td>458</td>\n",
       "    </tr>\n",
       "    <tr>\n",
       "      <th>20</th>\n",
       "      <td>3.7</td>\n",
       "      <td>Yellow</td>\n",
       "      <td>Good</td>\n",
       "      <td>427</td>\n",
       "    </tr>\n",
       "    <tr>\n",
       "      <th>21</th>\n",
       "      <td>3.8</td>\n",
       "      <td>Yellow</td>\n",
       "      <td>Good</td>\n",
       "      <td>399</td>\n",
       "    </tr>\n",
       "    <tr>\n",
       "      <th>22</th>\n",
       "      <td>3.9</td>\n",
       "      <td>Yellow</td>\n",
       "      <td>Good</td>\n",
       "      <td>332</td>\n",
       "    </tr>\n",
       "    <tr>\n",
       "      <th>23</th>\n",
       "      <td>4.0</td>\n",
       "      <td>Green</td>\n",
       "      <td>Very Good</td>\n",
       "      <td>266</td>\n",
       "    </tr>\n",
       "    <tr>\n",
       "      <th>24</th>\n",
       "      <td>4.1</td>\n",
       "      <td>Green</td>\n",
       "      <td>Very Good</td>\n",
       "      <td>274</td>\n",
       "    </tr>\n",
       "    <tr>\n",
       "      <th>25</th>\n",
       "      <td>4.2</td>\n",
       "      <td>Green</td>\n",
       "      <td>Very Good</td>\n",
       "      <td>221</td>\n",
       "    </tr>\n",
       "    <tr>\n",
       "      <th>26</th>\n",
       "      <td>4.3</td>\n",
       "      <td>Green</td>\n",
       "      <td>Very Good</td>\n",
       "      <td>174</td>\n",
       "    </tr>\n",
       "    <tr>\n",
       "      <th>27</th>\n",
       "      <td>4.4</td>\n",
       "      <td>Green</td>\n",
       "      <td>Very Good</td>\n",
       "      <td>143</td>\n",
       "    </tr>\n",
       "    <tr>\n",
       "      <th>28</th>\n",
       "      <td>4.5</td>\n",
       "      <td>Dark Green</td>\n",
       "      <td>Excellent</td>\n",
       "      <td>95</td>\n",
       "    </tr>\n",
       "    <tr>\n",
       "      <th>29</th>\n",
       "      <td>4.6</td>\n",
       "      <td>Dark Green</td>\n",
       "      <td>Excellent</td>\n",
       "      <td>78</td>\n",
       "    </tr>\n",
       "    <tr>\n",
       "      <th>30</th>\n",
       "      <td>4.7</td>\n",
       "      <td>Dark Green</td>\n",
       "      <td>Excellent</td>\n",
       "      <td>41</td>\n",
       "    </tr>\n",
       "    <tr>\n",
       "      <th>31</th>\n",
       "      <td>4.8</td>\n",
       "      <td>Dark Green</td>\n",
       "      <td>Excellent</td>\n",
       "      <td>25</td>\n",
       "    </tr>\n",
       "    <tr>\n",
       "      <th>32</th>\n",
       "      <td>4.9</td>\n",
       "      <td>Dark Green</td>\n",
       "      <td>Excellent</td>\n",
       "      <td>61</td>\n",
       "    </tr>\n",
       "  </tbody>\n",
       "</table>\n",
       "</div>"
      ],
      "text/plain": [
       "    Aggregate rating Rating color Rating text     0\n",
       "0                0.0        White   Not rated  2148\n",
       "1                1.8          Red        Poor     1\n",
       "2                1.9          Red        Poor     2\n",
       "3                2.0          Red        Poor     7\n",
       "4                2.1          Red        Poor    15\n",
       "5                2.2          Red        Poor    27\n",
       "6                2.3          Red        Poor    47\n",
       "7                2.4          Red        Poor    87\n",
       "8                2.5       Orange     Average   110\n",
       "9                2.6       Orange     Average   191\n",
       "10               2.7       Orange     Average   250\n",
       "11               2.8       Orange     Average   315\n",
       "12               2.9       Orange     Average   381\n",
       "13               3.0       Orange     Average   468\n",
       "14               3.1       Orange     Average   519\n",
       "15               3.2       Orange     Average   522\n",
       "16               3.3       Orange     Average   483\n",
       "17               3.4       Orange     Average   495\n",
       "18               3.5       Yellow        Good   480\n",
       "19               3.6       Yellow        Good   458\n",
       "20               3.7       Yellow        Good   427\n",
       "21               3.8       Yellow        Good   399\n",
       "22               3.9       Yellow        Good   332\n",
       "23               4.0        Green   Very Good   266\n",
       "24               4.1        Green   Very Good   274\n",
       "25               4.2        Green   Very Good   221\n",
       "26               4.3        Green   Very Good   174\n",
       "27               4.4        Green   Very Good   143\n",
       "28               4.5   Dark Green   Excellent    95\n",
       "29               4.6   Dark Green   Excellent    78\n",
       "30               4.7   Dark Green   Excellent    41\n",
       "31               4.8   Dark Green   Excellent    25\n",
       "32               4.9   Dark Green   Excellent    61"
      ]
     },
     "execution_count": 224,
     "metadata": {},
     "output_type": "execute_result"
    }
   ],
   "source": [
    "final_df.groupby(['Aggregate rating', 'Rating color', 'Rating text']).size().reset_index()"
   ]
  },
  {
   "cell_type": "markdown",
   "id": "c02e3389",
   "metadata": {},
   "source": [
    "\n",
    "### Observation\n",
    "1. When Rating is between 4.5 to 4.9---> Excellent\n",
    "2. When Rating are between 4.0 to 3.4--->very good\n",
    "3. when Rating is between 3.5 to 3.9----> good\n",
    "4. when Rating is between 3.0 to 3.4----> average\n",
    "5. when Rating is between 2.5 to 2.9----> average\n",
    "6. when Rating is between 2.0 to 2.4----> Poor"
   ]
  },
  {
   "cell_type": "code",
   "execution_count": 225,
   "id": "9a4c0767",
   "metadata": {},
   "outputs": [],
   "source": [
    "ratings = final_df.groupby(['Aggregate rating', 'Rating color', 'Rating text']).size().reset_index().rename(columns={0:'Ratings Count'})"
   ]
  },
  {
   "cell_type": "code",
   "execution_count": 226,
   "id": "b5b0b2b8",
   "metadata": {},
   "outputs": [
    {
     "data": {
      "text/html": [
       "<div>\n",
       "<style scoped>\n",
       "    .dataframe tbody tr th:only-of-type {\n",
       "        vertical-align: middle;\n",
       "    }\n",
       "\n",
       "    .dataframe tbody tr th {\n",
       "        vertical-align: top;\n",
       "    }\n",
       "\n",
       "    .dataframe thead th {\n",
       "        text-align: right;\n",
       "    }\n",
       "</style>\n",
       "<table border=\"1\" class=\"dataframe\">\n",
       "  <thead>\n",
       "    <tr style=\"text-align: right;\">\n",
       "      <th></th>\n",
       "      <th>Aggregate rating</th>\n",
       "      <th>Rating color</th>\n",
       "      <th>Rating text</th>\n",
       "      <th>Ratings Count</th>\n",
       "    </tr>\n",
       "  </thead>\n",
       "  <tbody>\n",
       "    <tr>\n",
       "      <th>0</th>\n",
       "      <td>0.0</td>\n",
       "      <td>White</td>\n",
       "      <td>Not rated</td>\n",
       "      <td>2148</td>\n",
       "    </tr>\n",
       "    <tr>\n",
       "      <th>1</th>\n",
       "      <td>1.8</td>\n",
       "      <td>Red</td>\n",
       "      <td>Poor</td>\n",
       "      <td>1</td>\n",
       "    </tr>\n",
       "    <tr>\n",
       "      <th>2</th>\n",
       "      <td>1.9</td>\n",
       "      <td>Red</td>\n",
       "      <td>Poor</td>\n",
       "      <td>2</td>\n",
       "    </tr>\n",
       "    <tr>\n",
       "      <th>3</th>\n",
       "      <td>2.0</td>\n",
       "      <td>Red</td>\n",
       "      <td>Poor</td>\n",
       "      <td>7</td>\n",
       "    </tr>\n",
       "    <tr>\n",
       "      <th>4</th>\n",
       "      <td>2.1</td>\n",
       "      <td>Red</td>\n",
       "      <td>Poor</td>\n",
       "      <td>15</td>\n",
       "    </tr>\n",
       "  </tbody>\n",
       "</table>\n",
       "</div>"
      ],
      "text/plain": [
       "   Aggregate rating Rating color Rating text  Ratings Count\n",
       "0               0.0        White   Not rated           2148\n",
       "1               1.8          Red        Poor              1\n",
       "2               1.9          Red        Poor              2\n",
       "3               2.0          Red        Poor              7\n",
       "4               2.1          Red        Poor             15"
      ]
     },
     "execution_count": 226,
     "metadata": {},
     "output_type": "execute_result"
    }
   ],
   "source": [
    "ratings.head()"
   ]
  },
  {
   "cell_type": "code",
   "execution_count": 227,
   "id": "b458e542",
   "metadata": {},
   "outputs": [
    {
     "data": {
      "text/plain": [
       "<Axes: xlabel='Aggregate rating', ylabel='Ratings Count'>"
      ]
     },
     "execution_count": 227,
     "metadata": {},
     "output_type": "execute_result"
    },
    {
     "data": {
      "image/png": "[encoded data removed]",
      "text/plain": [
       "<Figure size 1200x600 with 1 Axes>"
      ]
     },
     "metadata": {},
     "output_type": "display_data"
    }
   ],
   "source": [
    "# Create a bar plot\n",
    "import matplotlib\n",
    "matplotlib.rcParams['figure.figsize'] = (12, 6)\n",
    "sns.barplot(x=\"Aggregate rating\",y=\"Ratings Count\",data=ratings) #x and y axis value"
   ]
  },
  {
   "cell_type": "code",
   "execution_count": 228,
   "id": "4cbea35d",
   "metadata": {},
   "outputs": [
    {
     "data": {
      "text/plain": [
       "<Axes: xlabel='Aggregate rating', ylabel='Ratings Count'>"
      ]
     },
     "execution_count": 228,
     "metadata": {},
     "output_type": "execute_result"
    },
    {
     "data": {
      "image/png": "[encoded data removed]",
      "text/plain": [
       "<Figure size 1200x600 with 1 Axes>"
      ]
     },
     "metadata": {},
     "output_type": "display_data"
    }
   ],
   "source": [
    "# sns.barplot(x=\"Aggregate rating\",y=\"Ratings Count\",hue='Rating color',data=ratings)\n",
    "# different color shows for lable, so specify pallet\n",
    "\n",
    "sns.barplot(x=\"Aggregate rating\",y=\"Ratings Count\",hue='Rating color',data=ratings, palette=['blue','red','orange','yellow', 'Green', 'Green'])\n",
    "\n",
    "\n"
   ]
  },
  {
   "cell_type": "markdown",
   "id": "bb9d2685",
   "metadata": {},
   "source": [
    "### Observation:\n",
    "1. Not Rated count is very high\n",
    "2. Maximum number of rating are between 2.5 to 3.4"
   ]
  },
  {
   "cell_type": "code",
   "execution_count": 229,
   "id": "69bef4a6",
   "metadata": {},
   "outputs": [
    {
     "data": {
      "text/plain": [
       "<Axes: xlabel='Rating color', ylabel='count'>"
      ]
     },
     "execution_count": 229,
     "metadata": {},
     "output_type": "execute_result"
    },
    {
     "data": {
      "image/png": "[encoded data removed]",
      "text/plain": [
       "<Figure size 1200x600 with 1 Axes>"
      ]
     },
     "metadata": {},
     "output_type": "display_data"
    }
   ],
   "source": [
    "## Count plot\n",
    "sns.countplot(x=\"Rating color\", data = ratings, palette=['blue','red','orange','yellow','green','green'])"
   ]
  },
  {
   "cell_type": "code",
   "execution_count": 230,
   "id": "d8336b1d",
   "metadata": {},
   "outputs": [
    {
     "data": {
      "text/html": [
       "<div>\n",
       "<style scoped>\n",
       "    .dataframe tbody tr th:only-of-type {\n",
       "        vertical-align: middle;\n",
       "    }\n",
       "\n",
       "    .dataframe tbody tr th {\n",
       "        vertical-align: top;\n",
       "    }\n",
       "\n",
       "    .dataframe thead th {\n",
       "        text-align: right;\n",
       "    }\n",
       "</style>\n",
       "<table border=\"1\" class=\"dataframe\">\n",
       "  <thead>\n",
       "    <tr style=\"text-align: right;\">\n",
       "      <th></th>\n",
       "      <th>Country</th>\n",
       "      <th>count</th>\n",
       "    </tr>\n",
       "  </thead>\n",
       "  <tbody>\n",
       "    <tr>\n",
       "      <th>0</th>\n",
       "      <td>India</td>\n",
       "      <td>2139</td>\n",
       "    </tr>\n",
       "    <tr>\n",
       "      <th>1</th>\n",
       "      <td>Brazil</td>\n",
       "      <td>5</td>\n",
       "    </tr>\n",
       "    <tr>\n",
       "      <th>2</th>\n",
       "      <td>United States</td>\n",
       "      <td>3</td>\n",
       "    </tr>\n",
       "    <tr>\n",
       "      <th>3</th>\n",
       "      <td>United Kingdom</td>\n",
       "      <td>1</td>\n",
       "    </tr>\n",
       "  </tbody>\n",
       "</table>\n",
       "</div>"
      ],
      "text/plain": [
       "          Country  count\n",
       "0           India   2139\n",
       "1          Brazil      5\n",
       "2   United States      3\n",
       "3  United Kingdom      1"
      ]
     },
     "execution_count": 230,
     "metadata": {},
     "output_type": "execute_result"
    }
   ],
   "source": [
    "# Find the countries name that has given 0 rating \n",
    "\n",
    "# Filter the DataFrame\n",
    "zero_rating_countries = final_df[final_df['Rating color'] == 'White']\n",
    "# Group by Country and count\n",
    "zero_rating_countries.groupby('Country').size().sort_values(ascending=False).reset_index().rename(columns={0:'count'})\n"
   ]
  },
  {
   "cell_type": "markdown",
   "id": "0c280c38",
   "metadata": {},
   "source": [
    "### Observations\n",
    "Maximum number of 0 ratings are from Indian customers"
   ]
  },
  {
   "cell_type": "code",
   "execution_count": 231,
   "id": "b889a8e7",
   "metadata": {},
   "outputs": [
    {
     "data": {
      "text/plain": [
       "Index(['Restaurant ID', 'Restaurant Name', 'Country Code', 'City', 'Address',\n",
       "       'Locality', 'Locality Verbose', 'Longitude', 'Latitude', 'Cuisines',\n",
       "       'Average Cost for two', 'Currency', 'Has Table booking',\n",
       "       'Has Online delivery', 'Is delivering now', 'Switch to order menu',\n",
       "       'Price range', 'Aggregate rating', 'Rating color', 'Rating text',\n",
       "       'Votes', 'Country'],\n",
       "      dtype='object')"
      ]
     },
     "execution_count": 231,
     "metadata": {},
     "output_type": "execute_result"
    }
   ],
   "source": [
    "final_df.columns"
   ]
  },
  {
   "cell_type": "code",
   "execution_count": 232,
   "id": "512ccec4",
   "metadata": {},
   "outputs": [
    {
     "data": {
      "text/html": [
       "<div>\n",
       "<style scoped>\n",
       "    .dataframe tbody tr th:only-of-type {\n",
       "        vertical-align: middle;\n",
       "    }\n",
       "\n",
       "    .dataframe tbody tr th {\n",
       "        vertical-align: top;\n",
       "    }\n",
       "\n",
       "    .dataframe thead th {\n",
       "        text-align: right;\n",
       "    }\n",
       "</style>\n",
       "<table border=\"1\" class=\"dataframe\">\n",
       "  <thead>\n",
       "    <tr style=\"text-align: right;\">\n",
       "      <th></th>\n",
       "      <th>Currency</th>\n",
       "      <th>Country</th>\n",
       "      <th>0</th>\n",
       "    </tr>\n",
       "  </thead>\n",
       "  <tbody>\n",
       "    <tr>\n",
       "      <th>0</th>\n",
       "      <td>Botswana Pula(P)</td>\n",
       "      <td>Phillipines</td>\n",
       "      <td>22</td>\n",
       "    </tr>\n",
       "    <tr>\n",
       "      <th>1</th>\n",
       "      <td>Brazilian Real(R$)</td>\n",
       "      <td>Brazil</td>\n",
       "      <td>60</td>\n",
       "    </tr>\n",
       "    <tr>\n",
       "      <th>2</th>\n",
       "      <td>Dollar($)</td>\n",
       "      <td>Australia</td>\n",
       "      <td>24</td>\n",
       "    </tr>\n",
       "    <tr>\n",
       "      <th>3</th>\n",
       "      <td>Dollar($)</td>\n",
       "      <td>Canada</td>\n",
       "      <td>4</td>\n",
       "    </tr>\n",
       "    <tr>\n",
       "      <th>4</th>\n",
       "      <td>Dollar($)</td>\n",
       "      <td>Singapore</td>\n",
       "      <td>20</td>\n",
       "    </tr>\n",
       "    <tr>\n",
       "      <th>5</th>\n",
       "      <td>Dollar($)</td>\n",
       "      <td>United States</td>\n",
       "      <td>425</td>\n",
       "    </tr>\n",
       "    <tr>\n",
       "      <th>6</th>\n",
       "      <td>Emirati Diram(AED)</td>\n",
       "      <td>UAE</td>\n",
       "      <td>60</td>\n",
       "    </tr>\n",
       "    <tr>\n",
       "      <th>7</th>\n",
       "      <td>Indian Rupees(Rs.)</td>\n",
       "      <td>India</td>\n",
       "      <td>8652</td>\n",
       "    </tr>\n",
       "    <tr>\n",
       "      <th>8</th>\n",
       "      <td>Indonesian Rupiah(IDR)</td>\n",
       "      <td>Indonesia</td>\n",
       "      <td>21</td>\n",
       "    </tr>\n",
       "    <tr>\n",
       "      <th>9</th>\n",
       "      <td>NewZealand($)</td>\n",
       "      <td>New Zealand</td>\n",
       "      <td>40</td>\n",
       "    </tr>\n",
       "    <tr>\n",
       "      <th>10</th>\n",
       "      <td>Pounds(£)</td>\n",
       "      <td>United Kingdom</td>\n",
       "      <td>80</td>\n",
       "    </tr>\n",
       "    <tr>\n",
       "      <th>11</th>\n",
       "      <td>Qatari Rial(QR)</td>\n",
       "      <td>Qatar</td>\n",
       "      <td>20</td>\n",
       "    </tr>\n",
       "    <tr>\n",
       "      <th>12</th>\n",
       "      <td>Rand(R)</td>\n",
       "      <td>South Africa</td>\n",
       "      <td>60</td>\n",
       "    </tr>\n",
       "    <tr>\n",
       "      <th>13</th>\n",
       "      <td>Sri Lankan Rupee(LKR)</td>\n",
       "      <td>Sri Lanka</td>\n",
       "      <td>20</td>\n",
       "    </tr>\n",
       "    <tr>\n",
       "      <th>14</th>\n",
       "      <td>Turkish Lira(TL)</td>\n",
       "      <td>Turkey</td>\n",
       "      <td>34</td>\n",
       "    </tr>\n",
       "  </tbody>\n",
       "</table>\n",
       "</div>"
      ],
      "text/plain": [
       "                  Currency         Country     0\n",
       "0         Botswana Pula(P)     Phillipines    22\n",
       "1       Brazilian Real(R$)          Brazil    60\n",
       "2                Dollar($)       Australia    24\n",
       "3                Dollar($)          Canada     4\n",
       "4                Dollar($)       Singapore    20\n",
       "5                Dollar($)   United States   425\n",
       "6       Emirati Diram(AED)             UAE    60\n",
       "7       Indian Rupees(Rs.)           India  8652\n",
       "8   Indonesian Rupiah(IDR)       Indonesia    21\n",
       "9            NewZealand($)     New Zealand    40\n",
       "10              Pounds(£)  United Kingdom    80\n",
       "11         Qatari Rial(QR)           Qatar    20\n",
       "12                 Rand(R)    South Africa    60\n",
       "13   Sri Lankan Rupee(LKR)       Sri Lanka    20\n",
       "14        Turkish Lira(TL)          Turkey    34"
      ]
     },
     "execution_count": 232,
     "metadata": {},
     "output_type": "execute_result"
    }
   ],
   "source": [
    "##find out which currency is used by which country?\n",
    "final_df[['Currency','Country']].groupby(['Currency','Country']).size().reset_index()"
   ]
  },
  {
   "cell_type": "code",
   "execution_count": 233,
   "id": "879dff64",
   "metadata": {},
   "outputs": [
    {
     "data": {
      "text/plain": [
       "(9542, 22)"
      ]
     },
     "execution_count": 233,
     "metadata": {},
     "output_type": "execute_result"
    }
   ],
   "source": [
    "final_df.shape"
   ]
  },
  {
   "cell_type": "code",
   "execution_count": 234,
   "id": "88560a76",
   "metadata": {},
   "outputs": [
    {
     "data": {
      "text/html": [
       "<div>\n",
       "<style scoped>\n",
       "    .dataframe tbody tr th:only-of-type {\n",
       "        vertical-align: middle;\n",
       "    }\n",
       "\n",
       "    .dataframe tbody tr th {\n",
       "        vertical-align: top;\n",
       "    }\n",
       "\n",
       "    .dataframe thead th {\n",
       "        text-align: right;\n",
       "    }\n",
       "</style>\n",
       "<table border=\"1\" class=\"dataframe\">\n",
       "  <thead>\n",
       "    <tr style=\"text-align: right;\">\n",
       "      <th></th>\n",
       "      <th>Has Online delivery</th>\n",
       "      <th>Country</th>\n",
       "      <th>0</th>\n",
       "    </tr>\n",
       "  </thead>\n",
       "  <tbody>\n",
       "    <tr>\n",
       "      <th>0</th>\n",
       "      <td>No</td>\n",
       "      <td>Australia</td>\n",
       "      <td>24</td>\n",
       "    </tr>\n",
       "    <tr>\n",
       "      <th>1</th>\n",
       "      <td>No</td>\n",
       "      <td>Brazil</td>\n",
       "      <td>60</td>\n",
       "    </tr>\n",
       "    <tr>\n",
       "      <th>2</th>\n",
       "      <td>No</td>\n",
       "      <td>Canada</td>\n",
       "      <td>4</td>\n",
       "    </tr>\n",
       "    <tr>\n",
       "      <th>3</th>\n",
       "      <td>No</td>\n",
       "      <td>India</td>\n",
       "      <td>6229</td>\n",
       "    </tr>\n",
       "    <tr>\n",
       "      <th>4</th>\n",
       "      <td>No</td>\n",
       "      <td>Indonesia</td>\n",
       "      <td>21</td>\n",
       "    </tr>\n",
       "    <tr>\n",
       "      <th>5</th>\n",
       "      <td>No</td>\n",
       "      <td>New Zealand</td>\n",
       "      <td>40</td>\n",
       "    </tr>\n",
       "    <tr>\n",
       "      <th>6</th>\n",
       "      <td>No</td>\n",
       "      <td>Phillipines</td>\n",
       "      <td>22</td>\n",
       "    </tr>\n",
       "    <tr>\n",
       "      <th>7</th>\n",
       "      <td>No</td>\n",
       "      <td>Qatar</td>\n",
       "      <td>20</td>\n",
       "    </tr>\n",
       "    <tr>\n",
       "      <th>8</th>\n",
       "      <td>No</td>\n",
       "      <td>Singapore</td>\n",
       "      <td>20</td>\n",
       "    </tr>\n",
       "    <tr>\n",
       "      <th>9</th>\n",
       "      <td>No</td>\n",
       "      <td>South Africa</td>\n",
       "      <td>60</td>\n",
       "    </tr>\n",
       "    <tr>\n",
       "      <th>10</th>\n",
       "      <td>No</td>\n",
       "      <td>Sri Lanka</td>\n",
       "      <td>20</td>\n",
       "    </tr>\n",
       "    <tr>\n",
       "      <th>11</th>\n",
       "      <td>No</td>\n",
       "      <td>Turkey</td>\n",
       "      <td>34</td>\n",
       "    </tr>\n",
       "    <tr>\n",
       "      <th>12</th>\n",
       "      <td>No</td>\n",
       "      <td>UAE</td>\n",
       "      <td>32</td>\n",
       "    </tr>\n",
       "    <tr>\n",
       "      <th>13</th>\n",
       "      <td>No</td>\n",
       "      <td>United Kingdom</td>\n",
       "      <td>80</td>\n",
       "    </tr>\n",
       "    <tr>\n",
       "      <th>14</th>\n",
       "      <td>No</td>\n",
       "      <td>United States</td>\n",
       "      <td>425</td>\n",
       "    </tr>\n",
       "    <tr>\n",
       "      <th>15</th>\n",
       "      <td>Yes</td>\n",
       "      <td>India</td>\n",
       "      <td>2423</td>\n",
       "    </tr>\n",
       "    <tr>\n",
       "      <th>16</th>\n",
       "      <td>Yes</td>\n",
       "      <td>UAE</td>\n",
       "      <td>28</td>\n",
       "    </tr>\n",
       "  </tbody>\n",
       "</table>\n",
       "</div>"
      ],
      "text/plain": [
       "   Has Online delivery         Country     0\n",
       "0                   No       Australia    24\n",
       "1                   No          Brazil    60\n",
       "2                   No          Canada     4\n",
       "3                   No           India  6229\n",
       "4                   No       Indonesia    21\n",
       "5                   No     New Zealand    40\n",
       "6                   No     Phillipines    22\n",
       "7                   No           Qatar    20\n",
       "8                   No       Singapore    20\n",
       "9                   No    South Africa    60\n",
       "10                  No       Sri Lanka    20\n",
       "11                  No          Turkey    34\n",
       "12                  No             UAE    32\n",
       "13                  No  United Kingdom    80\n",
       "14                  No   United States   425\n",
       "15                 Yes           India  2423\n",
       "16                 Yes             UAE    28"
      ]
     },
     "execution_count": 234,
     "metadata": {},
     "output_type": "execute_result"
    }
   ],
   "source": [
    "# Which Countries do have online deliveries option\n",
    "final_df[['Has Online delivery','Country']].groupby(['Has Online delivery','Country']).size().reset_index()"
   ]
  },
  {
   "cell_type": "code",
   "execution_count": 235,
   "id": "10c86edc",
   "metadata": {},
   "outputs": [
    {
     "data": {
      "text/plain": [
       "Country\n",
       "India    2423\n",
       "UAE        28\n",
       "Name: count, dtype: int64"
      ]
     },
     "execution_count": 235,
     "metadata": {},
     "output_type": "execute_result"
    }
   ],
   "source": [
    "# show only yes\n",
    "final_df[final_df['Has Online delivery'] ==\"Yes\"].Country.value_counts() # case sensetive, yes != Yes"
   ]
  },
  {
   "cell_type": "markdown",
   "id": "a85d49c5",
   "metadata": {},
   "source": [
    "### Observations\n",
    "\n",
    "Online Deliveries are available in India and UAE"
   ]
  },
  {
   "cell_type": "code",
   "execution_count": 236,
   "id": "c999541e",
   "metadata": {},
   "outputs": [
    {
     "data": {
      "text/plain": [
       "array([5473, 1118, 1080,  251,   25,   21,   21,   21,   21,   21,   20,\n",
       "         20,   20,   20,   20,   20,   20,   20,   20,   20,   20,   20,\n",
       "         20,   20,   20,   20,   20,   20,   20,   20,   20,   20,   20,\n",
       "         20,   20,   20,   20,   20,   20,   20,   20,   20,   20,   20,\n",
       "         20,   20,   20,   20,   20,   20,   20,   20,   20,   20,   20,\n",
       "         20,   20,   20,   20,   20,   20,   20,   20,   20,   20,   20,\n",
       "         20,   20,   20,   20,   20,   19,   19,   19,   19,   19,   18,\n",
       "         18,   17,   16,   14,   11,    6,    4,    4,    3,    3,    2,\n",
       "          2,    2,    2,    2,    2,    2,    2,    1,    1,    1,    1,\n",
       "          1,    1,    1,    1,    1,    1,    1,    1,    1,    1,    1,\n",
       "          1,    1,    1,    1,    1,    1,    1,    1,    1,    1,    1,\n",
       "          1,    1,    1,    1,    1,    1,    1,    1,    1,    1,    1,\n",
       "          1,    1,    1,    1,    1,    1,    1,    1], dtype=int64)"
      ]
     },
     "execution_count": 236,
     "metadata": {},
     "output_type": "execute_result"
    }
   ],
   "source": [
    "#pie plot for top 5 cities\n",
    "\n",
    "#count cities freq., we only need count data so .values\n",
    "final_df.City.value_counts().values"
   ]
  },
  {
   "cell_type": "code",
   "execution_count": 237,
   "id": "73f73e45",
   "metadata": {},
   "outputs": [
    {
     "data": {
      "text/plain": [
       "Index(['New Delhi', 'Gurgaon', 'Noida', 'Faridabad', 'Ghaziabad', 'Ahmedabad',\n",
       "       'Guwahati', 'Amritsar', 'Bhubaneshwar', 'Lucknow',\n",
       "       ...\n",
       "       'Mc Millan', 'Mayfield', 'Macedon', 'Mohali', 'Lorn', 'Lincoln',\n",
       "       'Lakeview', 'Lakes Entrance', 'Inverloch', 'Panchkula'],\n",
       "      dtype='object', name='City', length=140)"
      ]
     },
     "execution_count": 237,
     "metadata": {},
     "output_type": "execute_result"
    }
   ],
   "source": [
    "#counted value data, need only city names, but in order of count\n",
    "final_df.City.value_counts().index"
   ]
  },
  {
   "cell_type": "code",
   "execution_count": 238,
   "id": "68204dfc",
   "metadata": {},
   "outputs": [
    {
     "data": {
      "text/plain": [
       "City\n",
       "New Delhi    5473\n",
       "Gurgaon      1118\n",
       "Noida        1080\n",
       "Faridabad     251\n",
       "Ghaziabad      25\n",
       "Name: count, dtype: int64"
      ]
     },
     "execution_count": 238,
     "metadata": {},
     "output_type": "execute_result"
    }
   ],
   "source": [
    "final_df.City.value_counts().head(5)"
   ]
  },
  {
   "cell_type": "code",
   "execution_count": 239,
   "id": "e149e44b",
   "metadata": {},
   "outputs": [],
   "source": [
    "city_values=final_df.City.value_counts().values\n",
    "city_labels=final_df.City.value_counts().index"
   ]
  },
  {
   "cell_type": "code",
   "execution_count": 240,
   "id": "00e45d1c",
   "metadata": {},
   "outputs": [
    {
     "data": {
      "text/plain": [
       "([<matplotlib.patches.Wedge at 0x165aee09690>,\n",
       "  <matplotlib.patches.Wedge at 0x165aee34410>,\n",
       "  <matplotlib.patches.Wedge at 0x165aee35a50>,\n",
       "  <matplotlib.patches.Wedge at 0x165aee37150>,\n",
       "  <matplotlib.patches.Wedge at 0x165aee447d0>],\n",
       " [Text(-0.6145352824185932, 0.9123301960708633, 'New Delhi'),\n",
       "  Text(0.0623675251198054, -1.0982305276263407, 'Gurgaon'),\n",
       "  Text(0.8789045225625368, -0.6614581167535246, 'Noida'),\n",
       "  Text(1.0922218418223437, -0.13058119407559224, 'Faridabad'),\n",
       "  Text(1.099946280005612, -0.010871113182029924, 'Ghaziabad')],\n",
       " [Text(-0.3352010631374145, 0.497634652402289, '68.87%'),\n",
       "  Text(0.0340186500653484, -0.5990348332507311, '14.07%'),\n",
       "  Text(0.47940246685229276, -0.36079533641101336, '13.59%'),\n",
       "  Text(0.5957573682667329, -0.07122610585941394, '3.16%'),\n",
       "  Text(0.5999706981848791, -0.005929698099289049, '0.31%')])"
      ]
     },
     "execution_count": 240,
     "metadata": {},
     "output_type": "execute_result"
    },
    {
     "data": {
      "image/png": "[encoded data removed]",
      "text/plain": [
       "<Figure size 1200x600 with 1 Axes>"
      ]
     },
     "metadata": {},
     "output_type": "display_data"
    }
   ],
   "source": [
    "plt.pie(city_values[:5], labels=city_labels[:5], autopct ='%1.2f%%')"
   ]
  },
  {
   "cell_type": "code",
   "execution_count": 241,
   "id": "14ccab07",
   "metadata": {},
   "outputs": [
    {
     "data": {
      "text/plain": [
       "array([936, 511, 354, ...,   1,   1,   1], dtype=int64)"
      ]
     },
     "execution_count": 241,
     "metadata": {},
     "output_type": "execute_result"
    }
   ],
   "source": [
    "# Find the top 10 cuisines\n",
    "final_df.Cuisines.value_counts().values"
   ]
  },
  {
   "cell_type": "code",
   "execution_count": 242,
   "id": "07980d59",
   "metadata": {},
   "outputs": [],
   "source": [
    "Cuisines_value = final_df.Cuisines.value_counts().values"
   ]
  },
  {
   "cell_type": "code",
   "execution_count": 243,
   "id": "22023d27",
   "metadata": {},
   "outputs": [
    {
     "data": {
      "text/plain": [
       "Index(['North Indian', 'North Indian, Chinese', 'Chinese', 'Fast Food',\n",
       "       'North Indian, Mughlai', 'Cafe', 'Bakery',\n",
       "       'North Indian, Mughlai, Chinese', 'Bakery, Desserts', 'Street Food',\n",
       "       ...\n",
       "       'Cafe, Pizza, Burger',\n",
       "       'Healthy Food, Continental, Juices, Beverages, Italian, Salad, Lebanese',\n",
       "       'Goan, American, Portuguese', 'South Indian, Desserts, Beverages',\n",
       "       'Healthy Food, North Indian, Italian, Salad', 'Bengali, Fast Food',\n",
       "       'North Indian, Rajasthani, Asian',\n",
       "       'Chinese, Thai, Malaysian, Indonesian',\n",
       "       'Bakery, Desserts, North Indian, Bengali, South Indian',\n",
       "       'Italian, World Cuisine'],\n",
       "      dtype='object', name='Cuisines', length=1825)"
      ]
     },
     "execution_count": 243,
     "metadata": {},
     "output_type": "execute_result"
    }
   ],
   "source": [
    "final_df.Cuisines.value_counts().index"
   ]
  },
  {
   "cell_type": "code",
   "execution_count": 244,
   "id": "96a373fc",
   "metadata": {},
   "outputs": [],
   "source": [
    "Cuisines_labels = final_df.Cuisines.value_counts().index"
   ]
  },
  {
   "cell_type": "code",
   "execution_count": 245,
   "id": "eeda6a38",
   "metadata": {},
   "outputs": [
    {
     "data": {
      "text/plain": [
       "([<matplotlib.patches.Wedge at 0x165af98a0d0>,\n",
       "  <matplotlib.patches.Wedge at 0x165af98b2d0>,\n",
       "  <matplotlib.patches.Wedge at 0x165af9a09d0>,\n",
       "  <matplotlib.patches.Wedge at 0x165af9a2150>,\n",
       "  <matplotlib.patches.Wedge at 0x165af9a3710>,\n",
       "  <matplotlib.patches.Wedge at 0x165af9acf50>,\n",
       "  <matplotlib.patches.Wedge at 0x165af9ae290>,\n",
       "  <matplotlib.patches.Wedge at 0x165af9af850>,\n",
       "  <matplotlib.patches.Wedge at 0x165af9a3810>,\n",
       "  <matplotlib.patches.Wedge at 0x165af9c20d0>],\n",
       " [Text(0.7383739846958008, 0.8153550507137645, 'North Indian'),\n",
       "  Text(-0.5794679314239953, 0.9349956772366362, 'North Indian, Chinese'),\n",
       "  Text(-1.067309479615702, 0.26617752482593154, 'Chinese'),\n",
       "  Text(-1.0185984499802057, -0.4152796620326146, 'Fast Food'),\n",
       "  Text(-0.5935788454809928, -0.9261015895664211, 'North Indian, Mughlai'),\n",
       "  Text(-0.005887079599915552, -1.0999842463843672, 'Cafe'),\n",
       "  Text(0.4842062514572988, -0.9876964645323336, 'Bakery'),\n",
       "  Text(0.808736477166136, -0.7456174022251013, 'North Indian, Mughlai, Chinese'),\n",
       "  Text(1.0055375294202338, -0.44597564611473206, 'Bakery, Desserts'),\n",
       "  Text(1.090298995560443, -0.14576728123927227, 'Street Food')],\n",
       " [Text(0.4027494461977095, 0.4447391185711442, '26.58%'),\n",
       "  Text(-0.316073417140361, 0.5099976421290743, '14.51%'),\n",
       "  Text(-0.5821688070631101, 0.14518774081414446, '10.05%'),\n",
       "  Text(-0.5555991545346576, -0.22651617929051704, '10.05%'),\n",
       "  Text(-0.32377027935326874, -0.5051463215816842, '9.48%'),\n",
       "  Text(-0.003211134327226664, -0.5999914071187457, '8.49%'),\n",
       "  Text(0.26411250079489024, -0.5387435261085456, '6.19%'),\n",
       "  Text(0.441128987545165, -0.40670040121369155, '5.59%'),\n",
       "  Text(0.5484750160474001, -0.24325944333530836, '4.83%'),\n",
       "  Text(0.5947085430329688, -0.07950942613051214, '4.23%')])"
      ]
     },
     "execution_count": 245,
     "metadata": {},
     "output_type": "execute_result"
    },
    {
     "data": {
      "image/png": "[encoded data removed]",
      "text/plain": [
       "<Figure size 1200x600 with 1 Axes>"
      ]
     },
     "metadata": {},
     "output_type": "display_data"
    }
   ],
   "source": [
    "plt.pie(Cuisines_value[:10], labels = Cuisines_labels[:10], autopct='%1.2f%%')"
   ]
  },
  {
   "cell_type": "code",
   "execution_count": null,
   "id": "9603ed67",
   "metadata": {},
   "outputs": [],
   "source": []
  }
 ],
 "metadata": {
  "kernelspec": {
   "display_name": "Python 3 (ipykernel)",
   "language": "python",
   "name": "python3"
  },
  "language_info": {
   "codemirror_mode": {
    "name": "ipython",
    "version": 3
   },
   "file_extension": ".py",
   "mimetype": "text/x-python",
   "name": "python",
   "nbconvert_exporter": "python",
   "pygments_lexer": "ipython3",
   "version": "3.11.5"
  }
 },
 "nbformat": 4,
 "nbformat_minor": 5
}
